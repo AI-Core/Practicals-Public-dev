{
 "cells": [
  {
   "cell_type": "code",
   "execution_count": null,
   "metadata": {},
   "outputs": [],
   "source": [
    "def fibonacci_memo(n: int, memo:dict=None) -> int:\n",
    "    if memo is None:\n",
    "        memo = {}\n",
    "    # If the value is not calculated, calculate it and store it\n",
    "    if n in memo:\n",
    "        print('cached', end=' ')\n",
    "        return memo[n]\n",
    "    if n == 0:\n",
    "        return 0\n",
    "    elif n == 1:\n",
    "        return 1\n",
    "    else:\n",
    "        result = fibonacci_memo(n-1, memo) + fibonacci_memo(n-2, memo)\n",
    "    memo[n] = result\n",
    "    return result"
   ]
  },
  {
   "cell_type": "markdown",
   "metadata": {},
   "source": [
    "Memoized_ways"
   ]
  },
  {
   "cell_type": "code",
   "execution_count": 5,
   "metadata": {},
   "outputs": [
    {
     "name": "stdout",
     "output_type": "stream",
     "text": [
      "53798080\n"
     ]
    }
   ],
   "source": [
    "def count_ways(n: int, memo: dict=None) -> int:\n",
    "    if memo is None:\n",
    "        memo = {}\n",
    "    if n in memo:\n",
    "        return memo[n]\n",
    "    if (n == 1 or n == 0) :\n",
    "        return 1\n",
    "    elif (n == 2) :\n",
    "        return 2\n",
    "    else :\n",
    "        result = count_ways(n - 3, memo) + count_ways(n - 2, memo) + count_ways(n - 1, memo)\n",
    "    memo[n] = result\n",
    "    return result\n",
    " \n",
    " \n",
    "# Driver code\n",
    "n = 30\n",
    "print(count_ways(n))"
   ]
  },
  {
   "cell_type": "markdown",
   "metadata": {},
   "source": [
    "Dexter Problem Using Tabulation"
   ]
  },
  {
   "cell_type": "code",
   "execution_count": null,
   "metadata": {},
   "outputs": [],
   "source": [
    "def count_ways_tabu(n) :\n",
    "    res = [0] * (n + 2)\n",
    "    res[0] = 1\n",
    "    res[1] = 1\n",
    "    res[2] = 2\n",
    "     \n",
    "    for i in range(3, n + 1) :\n",
    "        res[i] = res[i - 1] + res[i - 2] + res[i - 3]\n",
    "     \n",
    "    return res[n]"
   ]
  },
  {
   "cell_type": "markdown",
   "metadata": {},
   "source": [
    "Dexter Problem Using DP"
   ]
  },
  {
   "cell_type": "code",
   "execution_count": null,
   "metadata": {},
   "outputs": [],
   "source": [
    "def count_ways_linear(n) :\n",
    "    a = 1\n",
    "    b = 1\n",
    "    c = 2\n",
    "     \n",
    "    for i in range(3, n) :\n",
    "        d = a + b + c\n",
    "        a = b\n",
    "        b = c\n",
    "        c = d\n",
    "    return a + b + c\n",
    " "
   ]
  },
  {
   "cell_type": "markdown",
   "metadata": {},
   "source": [
    "# Q1. Catalan Numbers"
   ]
  },
  {
   "cell_type": "code",
   "execution_count": 1,
   "metadata": {},
   "outputs": [
    {
     "data": {
      "text/plain": [
       "132"
      ]
     },
     "execution_count": 1,
     "metadata": {},
     "output_type": "execute_result"
    }
   ],
   "source": [
    "def catalan_memo(n: int, memo: dict = None) -> int:\n",
    "    \"\"\"\n",
    "    Return the nth catalan number using memoization.\n",
    "    \"\"\"\n",
    "    if n == 0:\n",
    "        return 1\n",
    "    if memo == None:\n",
    "        memo = {}\n",
    "    sum = 0\n",
    "    if n not in memo:\n",
    "        for i in range(0, n):\n",
    "            sum = sum + catalan_memo(i, memo) * catalan_memo(n - i - 1, memo)\n",
    "        memo[n] = sum\n",
    "    return memo[n]\n",
    "\n",
    "\n",
    "catalan_memo(6)\n"
   ]
  },
  {
   "cell_type": "code",
   "execution_count": 15,
   "metadata": {},
   "outputs": [
    {
     "data": {
      "text/plain": [
       "132"
      ]
     },
     "execution_count": 15,
     "metadata": {},
     "output_type": "execute_result"
    }
   ],
   "source": [
    "def catalan_tabulation(n):\n",
    "    res = [0 for _ in range(n + 1)]\n",
    " \n",
    "    # Initialize first two values in table\n",
    "    res[0] = 1\n",
    "    res[1] = 1\n",
    "     \n",
    "    for i in range(2, n + 1):\n",
    "        for j in range(i):\n",
    "            res[i] = res[i] + res[j] * res[i-j-1]\n",
    "     \n",
    "    return res[n]\n",
    "\n",
    "catalan_tabulation(6)"
   ]
  },
  {
   "cell_type": "markdown",
   "metadata": {},
   "source": [
    "# Q2. Factorial "
   ]
  },
  {
   "cell_type": "code",
   "execution_count": 2,
   "metadata": {},
   "outputs": [
    {
     "data": {
      "text/plain": [
       "7778742049"
      ]
     },
     "execution_count": 2,
     "metadata": {},
     "output_type": "execute_result"
    }
   ],
   "source": [
    "def factorial_memo(n, memo: dict=None) -> int:\n",
    "    \"\"\"\n",
    "    Calculate the factorial of n using memoization.\n",
    "    \"\"\"\n",
    "    if n == 0:\n",
    "        return 1\n",
    "    if memo == None:\n",
    "        memo={}\n",
    "    sum = 0\n",
    "    if n not in memo:\n",
    "        for i in range(0, n):\n",
    "            sum = sum + factorial_memo(i - 1, memo)\n",
    "        memo[n] = sum\n",
    "    return memo[n]\n",
    "\n",
    "factorial_memo(50)"
   ]
  },
  {
   "cell_type": "code",
   "execution_count": null,
   "metadata": {},
   "outputs": [],
   "source": []
  },
  {
   "cell_type": "markdown",
   "metadata": {},
   "source": [
    "# Q3. My two cents"
   ]
  },
  {
   "cell_type": "code",
   "execution_count": 5,
   "metadata": {},
   "outputs": [
    {
     "name": "stdout",
     "output_type": "stream",
     "text": [
      "14\n"
     ]
    }
   ],
   "source": [
    "def count(S, m, n ):\n",
    " \n",
    "    # If n is 0 then there is 1\n",
    "    # solution (do not include any coin)\n",
    "    if (n == 0):\n",
    "        return 1\n",
    " \n",
    "    # If n is less than 0 then no\n",
    "    # solution exists\n",
    "    if (n < 0):\n",
    "        return 0\n",
    " \n",
    "    # If there are no coins and n\n",
    "    # is greater than 0, then no\n",
    "    # solution exist\n",
    "    if (m <=0 and n >= 1):\n",
    "        return 0\n",
    " \n",
    "    # count is sum of solutions (i)\n",
    "    # including S[m-1] (ii) excluding S[m-1]\n",
    "    return count(S, m - 1, n) + count(S, m, n - S[m - 1])\n",
    " \n",
    "# Driver program to test above function\n",
    "arr = [1, 2, 3]\n",
    "m = len(arr)\n",
    "print(count(arr, m, 10))"
   ]
  },
  {
   "cell_type": "markdown",
   "metadata": {},
   "source": [
    "# Q4. Hanoi"
   ]
  },
  {
   "cell_type": "code",
   "execution_count": 3,
   "metadata": {},
   "outputs": [
    {
     "name": "stdout",
     "output_type": "stream",
     "text": [
      "Move disk 1 from source , A, to destination C\n",
      "Move disk 2 from source , A, to destination B\n",
      "Move disk 1 from source , C, to destination B\n",
      "Move disk 3 from source , A, to destination C\n",
      "Move disk 1 from source , B, to destination A\n",
      "Move disk 2 from source , B, to destination C\n",
      "Move disk 1 from source , A, to destination C\n",
      "Move disk 4 from source , A, to destination B\n",
      "Move disk 1 from source , C, to destination B\n",
      "Move disk 2 from source , C, to destination A\n",
      "Move disk 1 from source , B, to destination A\n",
      "Move disk 3 from source , C, to destination B\n",
      "Move disk 1 from source , A, to destination C\n",
      "Move disk 2 from source , A, to destination B\n",
      "Move disk 1 from source , C, to destination B\n"
     ]
    }
   ],
   "source": [
    "def TowerOfHanoi(n , source, destination, auxiliary):\n",
    "    if n == 1:\n",
    "        print(f\"Move disk 1 from source , {source}, to destination {destination}\")\n",
    "        return\n",
    "    TowerOfHanoi(n-1, source, auxiliary, destination)\n",
    "    print(f\"Move disk {n} from source , {source}, to destination {destination}\")\n",
    "    TowerOfHanoi(n-1, auxiliary, destination, source)\n",
    "            \n",
    "# Driver code\n",
    "n = 4\n",
    "TowerOfHanoi(n,'A','B','C') "
   ]
  },
  {
   "cell_type": "markdown",
   "metadata": {},
   "source": []
  }
 ],
 "metadata": {
  "interpreter": {
   "hash": "14fed20d815d8426698b9e4db4c2894958f6485d6746a1ea976e58ce3ec76c9f"
  },
  "kernelspec": {
   "display_name": "Python 3.9.6 64-bit ('AiCoreTeach': conda)",
   "name": "python3"
  },
  "language_info": {
   "codemirror_mode": {
    "name": "ipython",
    "version": 3
   },
   "file_extension": ".py",
   "mimetype": "text/x-python",
   "name": "python",
   "nbconvert_exporter": "python",
   "pygments_lexer": "ipython3",
   "version": "3.9.6"
  },
  "orig_nbformat": 4
 },
 "nbformat": 4,
 "nbformat_minor": 2
}
