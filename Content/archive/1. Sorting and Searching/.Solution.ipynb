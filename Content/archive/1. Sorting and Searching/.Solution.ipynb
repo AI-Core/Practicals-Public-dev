{
 "cells": [
  {
   "cell_type": "markdown",
   "metadata": {},
   "source": [
    "# Bubble Sort"
   ]
  },
  {
   "cell_type": "code",
   "execution_count": null,
   "metadata": {},
   "outputs": [],
   "source": [
    "def bubbleSort(arr):\n",
    "    n = len(arr)\n",
    " \n",
    "    # Traverse through all array elements\n",
    "    for i in range(n):\n",
    " \n",
    "        # Last i elements are already in place\n",
    "        for j in range(0, n-i-1):\n",
    " \n",
    "            # traverse the array from 0 to n-i-1\n",
    "            # Swap if the element found is greater\n",
    "            # than the next element\n",
    "            if arr[j] > arr[j+1] :\n",
    "                arr[j], arr[j+1] = arr[j+1], arr[j]\n",
    "\n",
    "def efficient_bubble_sort(arr):\n",
    "    n = len(arr)\n",
    "\n",
    "    for i in range(n):\n",
    "        swapped = False\n",
    "        for j in range(0, n-i-1):\n",
    "  \n",
    "            if arr[j] > arr[j+1] :\n",
    "                arr[j], arr[j+1] = arr[j+1], arr[j]\n",
    "                swapped = True\n",
    "\n",
    "        if swapped == False:\n",
    "            break"
   ]
  },
  {
   "cell_type": "markdown",
   "metadata": {},
   "source": [
    "# Insertion Sort"
   ]
  },
  {
   "cell_type": "code",
   "execution_count": null,
   "metadata": {},
   "outputs": [],
   "source": [
    "def insertionSort(arr):\n",
    " \n",
    "    # Traverse through 1 to len(arr)\n",
    "    for i in range(1, len(arr)):\n",
    " \n",
    "        key = arr[i]\n",
    " \n",
    "        # Move elements of arr[0..i-1], that are\n",
    "        # greater than key, to one position ahead\n",
    "        # of their current position\n",
    "        j = i-1\n",
    "        while j >= 0 and key < arr[j] :\n",
    "                arr[j + 1] = arr[j]\n",
    "                j -= 1\n",
    "        arr[j + 1] = key"
   ]
  },
  {
   "cell_type": "markdown",
   "metadata": {},
   "source": [
    "## Q1. Merge Sort"
   ]
  },
  {
   "cell_type": "code",
   "execution_count": null,
   "metadata": {},
   "outputs": [],
   "source": [
    "def mergeSort(arr: List) -> None:\n",
    "    if len(arr) > 1:\n",
    " \n",
    "        mid = len(arr) // 2\n",
    " \n",
    "        left = arr[:mid]\n",
    " \n",
    "        right = arr[mid:]\n",
    " \n",
    "        mergeSort(left)\n",
    " \n",
    "        mergeSort(right)\n",
    " \n",
    "        i = 0\n",
    "        j = 0\n",
    "        k = 0\n",
    " \n",
    "        while i < len(left) and j < len(right):\n",
    "            if left[i] < right[j]:\n",
    "                arr[k] = left[i]\n",
    "                i += 1\n",
    "            else:\n",
    "                arr[k] = right[j]\n",
    "                j += 1\n",
    "            k += 1\n",
    " \n",
    "        while i < len(left):\n",
    "            arr[k] = left[i]\n",
    "            i += 1\n",
    "            k += 1\n",
    " \n",
    "        while j < len(right):\n",
    "            arr[k] = right[j]\n",
    "            j += 1\n",
    "            k += 1"
   ]
  },
  {
   "cell_type": "markdown",
   "metadata": {},
   "source": [
    "## Q2"
   ]
  },
  {
   "cell_type": "code",
   "execution_count": 9,
   "metadata": {},
   "outputs": [
    {
     "name": "stdout",
     "output_type": "stream",
     "text": [
      "Element found at index 7\n"
     ]
    }
   ],
   "source": [
    "def interpolation_search(ls, left, right, element):\n",
    " \n",
    "    if (left <= right and element >= ls[left] and element <= ls[right]):\n",
    " \n",
    "        pos = left + ((right - left) // (ls[right] - ls[left]) * (element - ls[left]))\n",
    " \n",
    "        if ls[pos] == element:\n",
    "            return pos\n",
    " \n",
    "        if ls[pos] < element:\n",
    "            return interpolationSearch(ls, pos + 1, right, element)\n",
    " \n",
    "        if ls[pos] > element:\n",
    "            return interpolationSearch(ls, left, pos - 1, element)\n",
    "    return -1\n",
    "\n",
    "my_ls = [1, 2, 3, 6, 8, 9, 12, 14, 42, 43, 44, 55, 65, 80, 97]\n",
    "n = len(my_ls)\n",
    " \n",
    "element = 14\n",
    "index = interpolationSearch(my_ls, 0, n - 1, element)\n",
    "if index == -1:\n",
    "    print('Element not found')\n",
    "else:\n",
    "    print(f'Element found at index {index}')"
   ]
  },
  {
   "cell_type": "markdown",
   "metadata": {},
   "source": [
    "## Q3"
   ]
  },
  {
   "cell_type": "code",
   "execution_count": 5,
   "metadata": {},
   "outputs": [],
   "source": [
    "def squareRoot(number: int) -> float:\n",
    "    number *= 10000\n",
    "    start = 0\n",
    "    end = number\n",
    "    ans = 1\n",
    " \n",
    "    while (start <= end):\n",
    "        mid = int((start + end) / 2)\n",
    " \n",
    "        if (mid * mid == number):\n",
    "            ans = mid\n",
    "            break\n",
    "\n",
    "        if (mid * mid < number):\n",
    "            start = mid + 1\n",
    "            ans = mid\n",
    " \n",
    "        else:\n",
    "            end = mid - 1\n",
    "    return ans\n"
   ]
  },
  {
   "cell_type": "markdown",
   "metadata": {},
   "source": [
    "## Q4"
   ]
  },
  {
   "cell_type": "code",
   "execution_count": 8,
   "metadata": {},
   "outputs": [
    {
     "name": "stdout",
     "output_type": "stream",
     "text": [
      "Element not found\n"
     ]
    }
   ],
   "source": [
    "def jumpSearch(ls, element, length):\n",
    "     \n",
    "    step = int(squareRoot(length))\n",
    "     \n",
    "    # Start jumping from 0\n",
    "    prev = 0\n",
    "    while ls[int(min(step, n)-1)] < element:\n",
    "        prev = step\n",
    "        step += int(squareRoot(length))\n",
    "        if prev >= length:\n",
    "            return -1\n",
    "\n",
    "    while ls[int(prev)] < element:\n",
    "        prev += 1\n",
    "        \n",
    "        if prev == min(step, length):\n",
    "            return -1\n",
    "     \n",
    "    # If element is found\n",
    "    if ls[int(prev)] == element:\n",
    "        return prev\n",
    "     \n",
    "    return -1\n",
    " \n",
    "# Driver code to test function\n",
    "my_ls = [1, 2, 3, 6, 8, 9, 12, 14, 42, 43, 44, 55, 65, 80, 97]\n",
    "element = 56\n",
    "n = len(my_ls)\n",
    " \n",
    "# Find the indeelement of 'element' using Jump Search\n",
    "index = jumpSearch(my_ls, element, n)\n",
    " \n",
    "# Print the indeelement where 'element' is located\n",
    "if index == -1:\n",
    "    print('Element not found')\n",
    "else:\n",
    "    print(f'Element found at index {index}')"
   ]
  }
 ],
 "metadata": {
  "interpreter": {
   "hash": "569d6b7e9215e11aba41c6454007e5c1b78bad7df09dab765d8cf00362c40f03"
  },
  "kernelspec": {
   "display_name": "Python 3.9.1 64-bit ('base': conda)",
   "name": "python3"
  },
  "language_info": {
   "codemirror_mode": {
    "name": "ipython",
    "version": 3
   },
   "file_extension": ".py",
   "mimetype": "text/x-python",
   "name": "python",
   "nbconvert_exporter": "python",
   "pygments_lexer": "ipython3",
   "version": "3.9.1"
  },
  "orig_nbformat": 4
 },
 "nbformat": 4,
 "nbformat_minor": 2
}