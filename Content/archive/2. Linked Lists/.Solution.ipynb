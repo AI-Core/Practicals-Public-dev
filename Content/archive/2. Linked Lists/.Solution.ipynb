{
 "cells": [
  {
   "cell_type": "markdown",
   "source": [
    "## Q1. Linked List Class"
   ],
   "metadata": {}
  },
  {
   "cell_type": "code",
   "execution_count": 1,
   "source": [
    "class Node:\r\n",
    "    def __init__(self, data):\r\n",
    "        self.data = data\r\n",
    "        self.next = None\r\n",
    "\r\n",
    "    def __repr__(self):\r\n",
    "        return self.data\r\n",
    "\r\n",
    "class LinkedList:\r\n",
    "\r\n",
    "    def __init__(self, nodes: list = None):\r\n",
    "        self.head = None\r\n",
    "        if nodes is not None:\r\n",
    "            node = Node(data=nodes.pop(0))\r\n",
    "            self.head = node\r\n",
    "            for elem in nodes:\r\n",
    "                node.next = Node(data=elem)\r\n",
    "                node = node.next\r\n",
    "    \r\n",
    "    def __repr__(self):\r\n",
    "        node = self.head\r\n",
    "        nodes = []\r\n",
    "        while node is not None:\r\n",
    "            nodes.append(node.data)\r\n",
    "            node = node.next\r\n",
    "        nodes.append(\"None\")\r\n",
    "        return \" -> \".join(nodes)\r\n",
    "        \r\n",
    "\r\n",
    "    def __iter__(self):\r\n",
    "        node = self.head\r\n",
    "        while node is not None:\r\n",
    "            yield node\r\n",
    "            node = node.next\r\n",
    "\r\n",
    "    def add_at_beginning(self, node: Node):\r\n",
    "        node.next = self.head\r\n",
    "        self.head = node\r\n",
    "    \r\n",
    "    def add_at_end(self, node: Node):\r\n",
    "        if self.head is None:\r\n",
    "            self.head = node\r\n",
    "            return\r\n",
    "        for current_node in self:\r\n",
    "            pass\r\n",
    "        current_node.next = node\r\n",
    "    \r\n",
    "    def add_after(self, node: Node, new_node: 'str'):\r\n",
    "        if self.head is None:\r\n",
    "            raise Exception(\"List is empty\")\r\n",
    "        \r\n",
    "        node = Node(data=new_node)\r\n",
    "        \r\n",
    "        for current_node in self:\r\n",
    "            if current_node.data == node.data:\r\n",
    "                new_node.next = current_node.next\r\n",
    "                current_node.next = new_node\r\n",
    "                return\r\n",
    "        raise Exception(\"Node not found\")\r\n",
    "    \r\n",
    "    def add_before(self, node: Node, new_node: Node):\r\n",
    "        if self.head is None:\r\n",
    "            raise Exception(\"List is empty\")\r\n",
    "        \r\n",
    "        if self.head.data == node.data:\r\n",
    "            self.add_at_beginning(new_node)\r\n",
    "            return\r\n",
    "        \r\n",
    "        prev_node = self.head\r\n",
    "        for current_node in self:\r\n",
    "            if current_node.data == node.data:\r\n",
    "                prev_node.next = new_node\r\n",
    "                new_node.next = current_node\r\n",
    "                return\r\n",
    "            prev_node = current_node\r\n",
    "\r\n",
    "        raise Exception(\"Node not found\")\r\n",
    "    \r\n",
    "    def remove_node(self, node: Node):\r\n",
    "        if self.head is None:\r\n",
    "            raise Exception(\"List is empty\")\r\n",
    "\r\n",
    "        if self.head.data == node.data:\r\n",
    "            self.head = self.head.next # remove head\r\n",
    "            return\r\n",
    "        \r\n",
    "        prev_node = self.head\r\n",
    "        for current_node in self:\r\n",
    "            if current_node.data == node.data:\r\n",
    "                prev_node.next = current_node.next\r\n",
    "                return\r\n",
    "            prev_node = current_node\r\n",
    "        \r\n",
    "        raise Exception(\"Node not found\")\r\n"
   ],
   "outputs": [],
   "metadata": {}
  },
  {
   "cell_type": "code",
   "execution_count": 2,
   "source": [
    "llist = LinkedList()\r\n",
    "llist.add_after('a', Node('b'))"
   ],
   "outputs": [
    {
     "output_type": "error",
     "ename": "Exception",
     "evalue": "List is empty",
     "traceback": [
      "\u001b[1;31m---------------------------------------------------------------------------\u001b[0m",
      "\u001b[1;31mException\u001b[0m                                 Traceback (most recent call last)",
      "\u001b[1;32mC:\\Users\\BLAIR_~1\\AppData\\Local\\Temp/ipykernel_7508/281734469.py\u001b[0m in \u001b[0;36m<module>\u001b[1;34m\u001b[0m\n\u001b[0;32m      1\u001b[0m \u001b[0mllist\u001b[0m \u001b[1;33m=\u001b[0m \u001b[0mLinkedList\u001b[0m\u001b[1;33m(\u001b[0m\u001b[1;33m)\u001b[0m\u001b[1;33m\u001b[0m\u001b[1;33m\u001b[0m\u001b[0m\n\u001b[1;32m----> 2\u001b[1;33m \u001b[0mllist\u001b[0m\u001b[1;33m.\u001b[0m\u001b[0madd_after\u001b[0m\u001b[1;33m(\u001b[0m\u001b[1;34m'a'\u001b[0m\u001b[1;33m,\u001b[0m \u001b[0mNode\u001b[0m\u001b[1;33m(\u001b[0m\u001b[1;34m'b'\u001b[0m\u001b[1;33m)\u001b[0m\u001b[1;33m)\u001b[0m\u001b[1;33m\u001b[0m\u001b[1;33m\u001b[0m\u001b[0m\n\u001b[0m",
      "\u001b[1;32mC:\\Users\\BLAIR_~1\\AppData\\Local\\Temp/ipykernel_7508/1868110646.py\u001b[0m in \u001b[0;36madd_after\u001b[1;34m(self, node, new_node)\u001b[0m\n\u001b[0;32m     48\u001b[0m     \u001b[1;32mdef\u001b[0m \u001b[0madd_after\u001b[0m\u001b[1;33m(\u001b[0m\u001b[0mself\u001b[0m\u001b[1;33m,\u001b[0m \u001b[0mnode\u001b[0m\u001b[1;33m:\u001b[0m \u001b[0mNode\u001b[0m\u001b[1;33m,\u001b[0m \u001b[0mnew_node\u001b[0m\u001b[1;33m:\u001b[0m \u001b[1;34m'str'\u001b[0m\u001b[1;33m)\u001b[0m\u001b[1;33m:\u001b[0m\u001b[1;33m\u001b[0m\u001b[1;33m\u001b[0m\u001b[0m\n\u001b[0;32m     49\u001b[0m         \u001b[1;32mif\u001b[0m \u001b[0mself\u001b[0m\u001b[1;33m.\u001b[0m\u001b[0mhead\u001b[0m \u001b[1;32mis\u001b[0m \u001b[1;32mNone\u001b[0m\u001b[1;33m:\u001b[0m\u001b[1;33m\u001b[0m\u001b[1;33m\u001b[0m\u001b[0m\n\u001b[1;32m---> 50\u001b[1;33m             \u001b[1;32mraise\u001b[0m \u001b[0mException\u001b[0m\u001b[1;33m(\u001b[0m\u001b[1;34m\"List is empty\"\u001b[0m\u001b[1;33m)\u001b[0m\u001b[1;33m\u001b[0m\u001b[1;33m\u001b[0m\u001b[0m\n\u001b[0m\u001b[0;32m     51\u001b[0m \u001b[1;33m\u001b[0m\u001b[0m\n\u001b[0;32m     52\u001b[0m         \u001b[0mnode\u001b[0m \u001b[1;33m=\u001b[0m \u001b[0mNode\u001b[0m\u001b[1;33m(\u001b[0m\u001b[0mdata\u001b[0m\u001b[1;33m=\u001b[0m\u001b[0mnew_node\u001b[0m\u001b[1;33m)\u001b[0m\u001b[1;33m\u001b[0m\u001b[1;33m\u001b[0m\u001b[0m\n",
      "\u001b[1;31mException\u001b[0m: List is empty"
     ]
    }
   ],
   "metadata": {}
  },
  {
   "cell_type": "code",
   "execution_count": null,
   "source": [
    "llist = LinkedList([\"a\", \"b\", \"c\", \"d\"])\r\n",
    "llist.add_after(Node('b'), Node('e'))\r\n",
    "llist.add_after(Node('c'), Node('f'))\r\n",
    "print(llist)\r\n",
    "llist.add_after(Node('h'), Node('f'))"
   ],
   "outputs": [
    {
     "output_type": "error",
     "ename": "Exception",
     "evalue": "Node not found",
     "traceback": [
      "\u001b[1;31m---------------------------------------------------------------------------\u001b[0m",
      "\u001b[1;31mException\u001b[0m                                 Traceback (most recent call last)",
      "\u001b[1;32mC:\\Users\\BLAIR_~1\\AppData\\Local\\Temp/ipykernel_7996/3623754068.py\u001b[0m in \u001b[0;36m<module>\u001b[1;34m\u001b[0m\n\u001b[0;32m      1\u001b[0m \u001b[0mllist\u001b[0m \u001b[1;33m=\u001b[0m \u001b[0mLinkedList\u001b[0m\u001b[1;33m(\u001b[0m\u001b[1;33m[\u001b[0m\u001b[1;34m\"a\"\u001b[0m\u001b[1;33m,\u001b[0m \u001b[1;34m\"b\"\u001b[0m\u001b[1;33m,\u001b[0m \u001b[1;34m\"c\"\u001b[0m\u001b[1;33m,\u001b[0m \u001b[1;34m\"d\"\u001b[0m\u001b[1;33m]\u001b[0m\u001b[1;33m)\u001b[0m\u001b[1;33m\u001b[0m\u001b[1;33m\u001b[0m\u001b[0m\n\u001b[1;32m----> 2\u001b[1;33m \u001b[0mllist\u001b[0m\u001b[1;33m.\u001b[0m\u001b[0madd_after\u001b[0m\u001b[1;33m(\u001b[0m\u001b[0mNode\u001b[0m\u001b[1;33m(\u001b[0m\u001b[1;34m'b'\u001b[0m\u001b[1;33m)\u001b[0m\u001b[1;33m,\u001b[0m \u001b[0mNode\u001b[0m\u001b[1;33m(\u001b[0m\u001b[1;34m'e'\u001b[0m\u001b[1;33m)\u001b[0m\u001b[1;33m)\u001b[0m\u001b[1;33m\u001b[0m\u001b[1;33m\u001b[0m\u001b[0m\n\u001b[0m\u001b[0;32m      3\u001b[0m \u001b[0mllist\u001b[0m\u001b[1;33m.\u001b[0m\u001b[0madd_after\u001b[0m\u001b[1;33m(\u001b[0m\u001b[0mNode\u001b[0m\u001b[1;33m(\u001b[0m\u001b[1;34m'c'\u001b[0m\u001b[1;33m)\u001b[0m\u001b[1;33m,\u001b[0m \u001b[0mNode\u001b[0m\u001b[1;33m(\u001b[0m\u001b[1;34m'f'\u001b[0m\u001b[1;33m)\u001b[0m\u001b[1;33m)\u001b[0m\u001b[1;33m\u001b[0m\u001b[1;33m\u001b[0m\u001b[0m\n\u001b[0;32m      4\u001b[0m \u001b[0mprint\u001b[0m\u001b[1;33m(\u001b[0m\u001b[0mllist\u001b[0m\u001b[1;33m)\u001b[0m\u001b[1;33m\u001b[0m\u001b[1;33m\u001b[0m\u001b[0m\n\u001b[0;32m      5\u001b[0m \u001b[0mllist\u001b[0m\u001b[1;33m.\u001b[0m\u001b[0madd_after\u001b[0m\u001b[1;33m(\u001b[0m\u001b[0mNode\u001b[0m\u001b[1;33m(\u001b[0m\u001b[1;34m'h'\u001b[0m\u001b[1;33m)\u001b[0m\u001b[1;33m,\u001b[0m \u001b[0mNode\u001b[0m\u001b[1;33m(\u001b[0m\u001b[1;34m'f'\u001b[0m\u001b[1;33m)\u001b[0m\u001b[1;33m)\u001b[0m\u001b[1;33m\u001b[0m\u001b[1;33m\u001b[0m\u001b[0m\n",
      "\u001b[1;32mC:\\Users\\BLAIR_~1\\AppData\\Local\\Temp/ipykernel_7996/1868110646.py\u001b[0m in \u001b[0;36madd_after\u001b[1;34m(self, node, new_node)\u001b[0m\n\u001b[0;32m     57\u001b[0m                 \u001b[0mcurrent_node\u001b[0m\u001b[1;33m.\u001b[0m\u001b[0mnext\u001b[0m \u001b[1;33m=\u001b[0m \u001b[0mnew_node\u001b[0m\u001b[1;33m\u001b[0m\u001b[1;33m\u001b[0m\u001b[0m\n\u001b[0;32m     58\u001b[0m                 \u001b[1;32mreturn\u001b[0m\u001b[1;33m\u001b[0m\u001b[1;33m\u001b[0m\u001b[0m\n\u001b[1;32m---> 59\u001b[1;33m         \u001b[1;32mraise\u001b[0m \u001b[0mException\u001b[0m\u001b[1;33m(\u001b[0m\u001b[1;34m\"Node not found\"\u001b[0m\u001b[1;33m)\u001b[0m\u001b[1;33m\u001b[0m\u001b[1;33m\u001b[0m\u001b[0m\n\u001b[0m\u001b[0;32m     60\u001b[0m \u001b[1;33m\u001b[0m\u001b[0m\n\u001b[0;32m     61\u001b[0m     \u001b[1;32mdef\u001b[0m \u001b[0madd_before\u001b[0m\u001b[1;33m(\u001b[0m\u001b[0mself\u001b[0m\u001b[1;33m,\u001b[0m \u001b[0mnode\u001b[0m\u001b[1;33m:\u001b[0m \u001b[0mNode\u001b[0m\u001b[1;33m,\u001b[0m \u001b[0mnew_node\u001b[0m\u001b[1;33m:\u001b[0m \u001b[0mNode\u001b[0m\u001b[1;33m)\u001b[0m\u001b[1;33m:\u001b[0m\u001b[1;33m\u001b[0m\u001b[1;33m\u001b[0m\u001b[0m\n",
      "\u001b[1;31mException\u001b[0m: Node not found"
     ]
    }
   ],
   "metadata": {}
  },
  {
   "cell_type": "code",
   "execution_count": null,
   "source": [
    "llist = LinkedList([\"b\", \"c\"])\r\n",
    "llist.add_before(Node(\"b\"), Node(\"a\"))\r\n",
    "print(llist)\r\n",
    "llist.add_before(Node(\"a\"), Node(\"z\"))\r\n",
    "print(llist)\r\n",
    "llist.add_after(Node(\"c\"), Node(\"d\"))\r\n",
    "print(llist)"
   ],
   "outputs": [
    {
     "output_type": "stream",
     "name": "stdout",
     "text": [
      "a -> b -> c -> None\n",
      "z -> a -> b -> c -> None\n"
     ]
    },
    {
     "output_type": "error",
     "ename": "Exception",
     "evalue": "Node not found",
     "traceback": [
      "\u001b[1;31m---------------------------------------------------------------------------\u001b[0m",
      "\u001b[1;31mException\u001b[0m                                 Traceback (most recent call last)",
      "\u001b[1;32mC:\\Users\\BLAIR_~1\\AppData\\Local\\Temp/ipykernel_7996/784757766.py\u001b[0m in \u001b[0;36m<module>\u001b[1;34m\u001b[0m\n\u001b[0;32m      4\u001b[0m \u001b[0mllist\u001b[0m\u001b[1;33m.\u001b[0m\u001b[0madd_before\u001b[0m\u001b[1;33m(\u001b[0m\u001b[0mNode\u001b[0m\u001b[1;33m(\u001b[0m\u001b[1;34m\"a\"\u001b[0m\u001b[1;33m)\u001b[0m\u001b[1;33m,\u001b[0m \u001b[0mNode\u001b[0m\u001b[1;33m(\u001b[0m\u001b[1;34m\"z\"\u001b[0m\u001b[1;33m)\u001b[0m\u001b[1;33m)\u001b[0m\u001b[1;33m\u001b[0m\u001b[1;33m\u001b[0m\u001b[0m\n\u001b[0;32m      5\u001b[0m \u001b[0mprint\u001b[0m\u001b[1;33m(\u001b[0m\u001b[0mllist\u001b[0m\u001b[1;33m)\u001b[0m\u001b[1;33m\u001b[0m\u001b[1;33m\u001b[0m\u001b[0m\n\u001b[1;32m----> 6\u001b[1;33m \u001b[0mllist\u001b[0m\u001b[1;33m.\u001b[0m\u001b[0madd_after\u001b[0m\u001b[1;33m(\u001b[0m\u001b[0mNode\u001b[0m\u001b[1;33m(\u001b[0m\u001b[1;34m\"c\"\u001b[0m\u001b[1;33m)\u001b[0m\u001b[1;33m,\u001b[0m \u001b[0mNode\u001b[0m\u001b[1;33m(\u001b[0m\u001b[1;34m\"d\"\u001b[0m\u001b[1;33m)\u001b[0m\u001b[1;33m)\u001b[0m\u001b[1;33m\u001b[0m\u001b[1;33m\u001b[0m\u001b[0m\n\u001b[0m\u001b[0;32m      7\u001b[0m \u001b[0mprint\u001b[0m\u001b[1;33m(\u001b[0m\u001b[0mllist\u001b[0m\u001b[1;33m)\u001b[0m\u001b[1;33m\u001b[0m\u001b[1;33m\u001b[0m\u001b[0m\n",
      "\u001b[1;32mC:\\Users\\BLAIR_~1\\AppData\\Local\\Temp/ipykernel_7996/1868110646.py\u001b[0m in \u001b[0;36madd_after\u001b[1;34m(self, node, new_node)\u001b[0m\n\u001b[0;32m     57\u001b[0m                 \u001b[0mcurrent_node\u001b[0m\u001b[1;33m.\u001b[0m\u001b[0mnext\u001b[0m \u001b[1;33m=\u001b[0m \u001b[0mnew_node\u001b[0m\u001b[1;33m\u001b[0m\u001b[1;33m\u001b[0m\u001b[0m\n\u001b[0;32m     58\u001b[0m                 \u001b[1;32mreturn\u001b[0m\u001b[1;33m\u001b[0m\u001b[1;33m\u001b[0m\u001b[0m\n\u001b[1;32m---> 59\u001b[1;33m         \u001b[1;32mraise\u001b[0m \u001b[0mException\u001b[0m\u001b[1;33m(\u001b[0m\u001b[1;34m\"Node not found\"\u001b[0m\u001b[1;33m)\u001b[0m\u001b[1;33m\u001b[0m\u001b[1;33m\u001b[0m\u001b[0m\n\u001b[0m\u001b[0;32m     60\u001b[0m \u001b[1;33m\u001b[0m\u001b[0m\n\u001b[0;32m     61\u001b[0m     \u001b[1;32mdef\u001b[0m \u001b[0madd_before\u001b[0m\u001b[1;33m(\u001b[0m\u001b[0mself\u001b[0m\u001b[1;33m,\u001b[0m \u001b[0mnode\u001b[0m\u001b[1;33m:\u001b[0m \u001b[0mNode\u001b[0m\u001b[1;33m,\u001b[0m \u001b[0mnew_node\u001b[0m\u001b[1;33m:\u001b[0m \u001b[0mNode\u001b[0m\u001b[1;33m)\u001b[0m\u001b[1;33m:\u001b[0m\u001b[1;33m\u001b[0m\u001b[1;33m\u001b[0m\u001b[0m\n",
      "\u001b[1;31mException\u001b[0m: Node not found"
     ]
    }
   ],
   "metadata": {}
  },
  {
   "cell_type": "code",
   "execution_count": null,
   "source": [],
   "outputs": [],
   "metadata": {}
  },
  {
   "cell_type": "markdown",
   "source": [
    "## Q2. Intersection"
   ],
   "metadata": {}
  },
  {
   "cell_type": "markdown",
   "source": [
    "Easy Solution"
   ],
   "metadata": {}
  },
  {
   "cell_type": "code",
   "execution_count": 6,
   "source": [
    "def getIntersectionNode(headA: Node, headB: Node) -> Node:\r\n",
    "        \r\n",
    "        while headA is not None: \r\n",
    "            pB = headB   \r\n",
    "            while pB is not None:\r\n",
    "                if headA.data == pB.data:\r\n",
    "                    return headA\r\n",
    "                pB = pB.next\r\n",
    "            headA = headA.next\r\n",
    "\r\n",
    "\r\n",
    "        return None\r\n",
    "\r\n",
    "\r\n",
    "ListA=LinkedList(['a', 'b', 'd', 'e', 'g'])\r\n",
    "ListB=LinkedList(['r', 'q', 'd', 'e', 'g'])\r\n",
    "intersect = getIntersectionNode(ListA.head, ListB.head)\r\n",
    "print(intersect)"
   ],
   "outputs": [
    {
     "output_type": "stream",
     "name": "stdout",
     "text": [
      "d\n"
     ]
    }
   ],
   "metadata": {}
  },
  {
   "cell_type": "markdown",
   "source": [
    "Interview Level Solution"
   ],
   "metadata": {}
  },
  {
   "cell_type": "code",
   "execution_count": 7,
   "source": [
    "def getIntersectionNode(headA: LinkedList, headB: LinkedList) -> Node:\r\n",
    "        nodes_in_B = set()\r\n",
    "\r\n",
    "        while headB is not None:\r\n",
    "            nodes_in_B.add(headB.data)\r\n",
    "            headB = headB.next\r\n",
    "\r\n",
    "        while headA is not None:\r\n",
    "            # if we find the node pointed to by headA,\r\n",
    "            # in our set containing nodes of B, then return the node\r\n",
    "            if headA.data in nodes_in_B:\r\n",
    "\r\n",
    "                return headA\r\n",
    "            headA = headA.next\r\n",
    "\r\n",
    "        return None\r\n",
    "\r\n",
    "ListA=LinkedList(['a', 'b', 'd', 'e', 'g'])\r\n",
    "ListB=LinkedList(['r', 'q', 'd', 'e', 'g'])\r\n",
    "intersect = getIntersectionNode(ListA.head, ListB.head)\r\n",
    "print(intersect)"
   ],
   "outputs": [
    {
     "output_type": "stream",
     "name": "stdout",
     "text": [
      "d\n"
     ]
    }
   ],
   "metadata": {}
  },
  {
   "cell_type": "markdown",
   "source": [
    "Professional level Solution"
   ],
   "metadata": {}
  },
  {
   "cell_type": "code",
   "execution_count": 11,
   "source": [
    "def getIntersectionNode(headA: Node, headB: Node) -> Node:\r\n",
    "        pA = headA\r\n",
    "        pB = headB\r\n",
    "\r\n",
    "        while str(pA) != str(pB):\r\n",
    "            \r\n",
    "            pA = headB if pA is None else pA.next\r\n",
    "            pB = headA if pB is None else pB.next\r\n",
    "            \r\n",
    "        return pA\r\n",
    "\r\n",
    "ListA=LinkedList(['a', 'b', 'd', 'f', 'g'])\r\n",
    "ListB=LinkedList(['r', 'd', 'f', 'g'])\r\n",
    "intersect = getIntersectionNode(ListA.head, ListB.head)\r\n",
    "print(intersect)"
   ],
   "outputs": [
    {
     "output_type": "stream",
     "name": "stdout",
     "text": [
      "d\n"
     ]
    }
   ],
   "metadata": {}
  },
  {
   "cell_type": "markdown",
   "source": [
    "## Q3. Circular Linked List"
   ],
   "metadata": {}
  },
  {
   "cell_type": "code",
   "execution_count": null,
   "source": [
    "class CircularLinkedList:\r\n",
    "    def __init__(self):\r\n",
    "        self.head = None\r\n",
    "\r\n",
    "    def traverse(self, starting_point=None):\r\n",
    "        if starting_point is None:\r\n",
    "            starting_point = self.head\r\n",
    "        node = starting_point\r\n",
    "        while node is not None and (node.next != starting_point):\r\n",
    "            yield node\r\n",
    "            node = node.next\r\n",
    "        yield node\r\n",
    "\r\n",
    "    def print_list(self, starting_point=None):\r\n",
    "        nodes = []\r\n",
    "        for node in self.traverse(starting_point):\r\n",
    "            nodes.append(str(node))\r\n",
    "        print(\" -> \".join(nodes))"
   ],
   "outputs": [],
   "metadata": {}
  }
 ],
 "metadata": {
  "interpreter": {
   "hash": "485a1dab40f4ab8fba927ff731b26bb02b38a833ca6d84298e2f32eecc50945c"
  },
  "kernelspec": {
   "name": "python3",
   "display_name": "Python 3.9.0 64-bit ('AiCore': conda)"
  },
  "language_info": {
   "name": "python",
   "version": "3.9.0",
   "mimetype": "text/x-python",
   "codemirror_mode": {
    "name": "ipython",
    "version": 3
   },
   "pygments_lexer": "ipython3",
   "nbconvert_exporter": "python",
   "file_extension": ".py"
  },
  "orig_nbformat": 4
 },
 "nbformat": 4,
 "nbformat_minor": 2
}