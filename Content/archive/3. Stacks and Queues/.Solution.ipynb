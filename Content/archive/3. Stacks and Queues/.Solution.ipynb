{
 "cells": [
  {
   "cell_type": "markdown",
   "metadata": {},
   "source": [
    "## Q1. Text Editor"
   ]
  },
  {
   "cell_type": "code",
   "execution_count": 7,
   "metadata": {},
   "outputs": [
    {
     "name": "stdout",
     "output_type": "stream",
     "text": [
      "3\n",
      "e\n"
     ]
    },
    {
     "ename": "ValueError",
     "evalue": "invalid literal for int() with base 10: ' '",
     "output_type": "error",
     "traceback": [
      "\u001b[1;31m---------------------------------------------------------------------------\u001b[0m",
      "\u001b[1;31mValueError\u001b[0m                                Traceback (most recent call last)",
      "\u001b[1;32mC:\\Users\\BLAIR_~1\\AppData\\Local\\Temp/ipykernel_19880/3074977423.py\u001b[0m in \u001b[0;36m<module>\u001b[1;34m\u001b[0m\n\u001b[0;32m     22\u001b[0m     \u001b[1;32mreturn\u001b[0m \u001b[0mhistory\u001b[0m\u001b[1;33m\u001b[0m\u001b[1;33m\u001b[0m\u001b[0m\n\u001b[0;32m     23\u001b[0m \u001b[1;33m\u001b[0m\u001b[0m\n\u001b[1;32m---> 24\u001b[1;33m \u001b[0mnew_editor\u001b[0m \u001b[1;33m=\u001b[0m \u001b[0mtext_ed\u001b[0m\u001b[1;33m(\u001b[0m\u001b[1;34m'Hello World'\u001b[0m\u001b[1;33m,\u001b[0m \u001b[1;33m[\u001b[0m\u001b[1;34m'1 My name is Ivan'\u001b[0m\u001b[1;33m,\u001b[0m \u001b[1;34m'3 10'\u001b[0m\u001b[1;33m,\u001b[0m \u001b[1;34m'2 0'\u001b[0m\u001b[1;33m,\u001b[0m \u001b[1;34m'4'\u001b[0m\u001b[1;33m,\u001b[0m \u001b[1;34m'1 Ying'\u001b[0m\u001b[1;33m,\u001b[0m \u001b[1;34m'3 15'\u001b[0m\u001b[1;33m,\u001b[0m \u001b[1;34m'4'\u001b[0m\u001b[1;33m]\u001b[0m\u001b[1;33m)\u001b[0m\u001b[1;33m\u001b[0m\u001b[1;33m\u001b[0m\u001b[0m\n\u001b[0m\u001b[0;32m     25\u001b[0m \u001b[0mprint\u001b[0m\u001b[1;33m(\u001b[0m\u001b[0mtext_ed\u001b[0m\u001b[1;33m.\u001b[0m\u001b[0mnew_editor\u001b[0m\u001b[1;33m)\u001b[0m\u001b[1;33m\u001b[0m\u001b[1;33m\u001b[0m\u001b[0m\n",
      "\u001b[1;32mC:\\Users\\BLAIR_~1\\AppData\\Local\\Temp/ipykernel_19880/3074977423.py\u001b[0m in \u001b[0;36mtext_ed\u001b[1;34m(string_input, operations)\u001b[0m\n\u001b[0;32m     11\u001b[0m         \u001b[1;32melif\u001b[0m \u001b[0moperations\u001b[0m\u001b[1;33m[\u001b[0m\u001b[0mi\u001b[0m\u001b[1;33m]\u001b[0m\u001b[1;33m[\u001b[0m\u001b[1;36m0\u001b[0m\u001b[1;33m]\u001b[0m \u001b[1;33m==\u001b[0m \u001b[1;34m'2'\u001b[0m\u001b[1;33m:\u001b[0m\u001b[1;33m\u001b[0m\u001b[1;33m\u001b[0m\u001b[0m\n\u001b[0;32m     12\u001b[0m             \u001b[0mhistory\u001b[0m\u001b[1;33m.\u001b[0m\u001b[0mappend\u001b[0m\u001b[1;33m(\u001b[0m\u001b[0mstring_input\u001b[0m\u001b[1;33m)\u001b[0m\u001b[1;33m\u001b[0m\u001b[1;33m\u001b[0m\u001b[0m\n\u001b[1;32m---> 13\u001b[1;33m             \u001b[0mdelpos\u001b[0m \u001b[1;33m=\u001b[0m \u001b[0mint\u001b[0m\u001b[1;33m(\u001b[0m\u001b[0moperations\u001b[0m\u001b[1;33m[\u001b[0m\u001b[0mi\u001b[0m\u001b[1;33m]\u001b[0m\u001b[1;33m[\u001b[0m\u001b[1;36m1\u001b[0m\u001b[1;33m]\u001b[0m\u001b[1;33m)\u001b[0m\u001b[1;33m\u001b[0m\u001b[1;33m\u001b[0m\u001b[0m\n\u001b[0m\u001b[0;32m     14\u001b[0m             \u001b[0mmypos\u001b[0m \u001b[1;33m=\u001b[0m \u001b[0mlen\u001b[0m\u001b[1;33m(\u001b[0m\u001b[0mstring_input\u001b[0m\u001b[1;33m)\u001b[0m \u001b[1;33m-\u001b[0m \u001b[0mdelpos\u001b[0m\u001b[1;33m\u001b[0m\u001b[1;33m\u001b[0m\u001b[0m\n\u001b[0;32m     15\u001b[0m             \u001b[0mstring_input\u001b[0m \u001b[1;33m=\u001b[0m \u001b[0mstring_input\u001b[0m\u001b[1;33m[\u001b[0m\u001b[1;36m0\u001b[0m\u001b[1;33m:\u001b[0m\u001b[0mmypos\u001b[0m\u001b[1;33m]\u001b[0m\u001b[1;33m\u001b[0m\u001b[1;33m\u001b[0m\u001b[0m\n",
      "\u001b[1;31mValueError\u001b[0m: invalid literal for int() with base 10: ' '"
     ]
    }
   ],
   "source": [
    "def text_ed(string_input, operations):\n",
    "    history = []\n",
    "\n",
    "    for i in range(len(operations)):\n",
    "        \n",
    "        #print(operations[i][1])\n",
    "\n",
    "        if operations[i][0] == '1':\n",
    "            history.append(string_input)\n",
    "            string_input = string_input + string_input[1]\n",
    "        elif operations[i][0] == '2':\n",
    "            history.append(string_input)\n",
    "            delpos = int(operations[i][1])\n",
    "            mypos = len(string_input) - delpos\n",
    "            string_input = string_input[0:mypos]\n",
    "        elif operations[i][0] == '3':\n",
    "            print(operations[i][0])\n",
    "            mypos = len(string_input) - 1\n",
    "            print(string_input[mypos])\n",
    "        else:\n",
    "            string_input = history.pop()\n",
    "    return history\n",
    "\n",
    "new_editor = text_ed('Hello World', ['1 My name is Ivan', '3 10', '2 0', '4', '1 Ying', '3 15', '4'])\n",
    "print(text_ed.new_editor)\n"
   ]
  },
  {
   "cell_type": "markdown",
   "metadata": {},
   "source": [
    "## Q2. Animal Shelter"
   ]
  },
  {
   "cell_type": "code",
   "execution_count": null,
   "metadata": {},
   "outputs": [],
   "source": [
    "class AnimalShelter(object):\n",
    " \n",
    "    def __init__(self):\n",
    "        self.cats = []\n",
    "        self.dogs = []\n",
    "        self.tot = 0\n",
    " \n",
    "    def enqueue(self, name, type):\n",
    "        self.tot += 1\n",
    "        if type == 'dog':\n",
    "            self.dogs.append((name, self.tot))\n",
    "        else:\n",
    "            self.cats.append((name, self.tot))\n",
    " \n",
    "    def dequeueAny(self):\n",
    "        if len(self.dogs) == 0:\n",
    "            return self.dequeueCat()\n",
    "        elif len(self.cats) == 0:\n",
    "            return self.dequeueDog()\n",
    "        else:\n",
    "            if self.dogs[0][1] < self.cats[0][1]:\n",
    "                return self.dequeueDog()\n",
    "            else:\n",
    "                return self.dequeueCat()\n",
    " \n",
    "    def dequeueDog(self):\n",
    "        name = self.dogs[0][0]\n",
    "        del self.dogs[0]\n",
    "        return name\n",
    " \n",
    "    def dequeueCat(self):\n",
    "        name = self.cats[0][0]\n",
    "        del self.cats[0]\n",
    "        return name\n",
    "\n",
    "\n",
    "\n"
   ]
  },
  {
   "cell_type": "code",
   "execution_count": 11,
   "metadata": {},
   "outputs": [
    {
     "name": "stdout",
     "output_type": "stream",
     "text": [
      "['Hello World My name is Ivan']\n",
      "d\n",
      "['Hello World My name is Ivan', 'Hello World My name is Ivan']\n",
      "['Hello World My name is Ivan', 'Hello World My name is Ivan', 'ello World My name is Ivan']\n",
      "['Hello World My name is Ivan', 'Hello World My name is Ivan']\n",
      "['Hello World My name is Ivan', 'Hello World My name is Ivan', 'ello World My name is Ivan Ying']\n",
      "a\n",
      "['Hello World My name is Ivan', 'Hello World My name is Ivan', 'ello World My name is Ivan Ying', 'ello World My name is Ivan Ying']\n",
      "['Hello World My name is Ivan', 'Hello World My name is Ivan', 'ello World My name is Ivan Ying']\n"
     ]
    }
   ],
   "source": [
    "operations = ['1 My name is Ivan', '3 10', '2 0', '4', '1 Ying', '3 15', '4']\n",
    "def text_ed(string_input, operations):\n",
    "    history = []\n",
    "    for i in range(len(operations)):\n",
    "        operation = operations[i]\n",
    "        if operation[0] == '1':\n",
    "            string_input = string_input + operation[1:]\n",
    "            history.append(string_input)\n",
    "        elif operation[0] == '2':\n",
    "            delpos = int(operation[-1])\n",
    "            mypos = len(string_input) - delpos\n",
    "            string_input = string_input[-delpos+1:]\n",
    "            history.append(string_input)\n",
    "        elif operation[0] == '3':\n",
    "            mypos = int(operation[1:])\n",
    "            print(string_input[mypos])\n",
    "            string_input[mypos]\n",
    "            history.append(string_input)\n",
    "        else:\n",
    "            string_input = history.pop()\n",
    "            #string_input = history.pop()\n",
    "#             history.append(string_input)\n",
    "        print(history)\n",
    "text_ed('Hello World', operations)"
   ]
  }
 ],
 "metadata": {
  "interpreter": {
   "hash": "14fed20d815d8426698b9e4db4c2894958f6485d6746a1ea976e58ce3ec76c9f"
  },
  "kernelspec": {
   "display_name": "Python 3.9.6 64-bit ('AiCoreTeach': conda)",
   "name": "python3"
  },
  "language_info": {
   "codemirror_mode": {
    "name": "ipython",
    "version": 3
   },
   "file_extension": ".py",
   "mimetype": "text/x-python",
   "name": "python",
   "nbconvert_exporter": "python",
   "pygments_lexer": "ipython3",
   "version": "3.9.0"
  },
  "orig_nbformat": 4
 },
 "nbformat": 4,
 "nbformat_minor": 2
}
