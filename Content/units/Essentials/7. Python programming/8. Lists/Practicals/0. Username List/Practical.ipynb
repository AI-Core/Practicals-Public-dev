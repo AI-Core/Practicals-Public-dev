{
 "cells": [
  {
   "cell_type": "markdown",
   "id": "8e488a21",
   "metadata": {},
   "source": [
    "# Username List"
   ]
  },
  {
   "attachments": {},
   "cell_type": "markdown",
   "id": "ca779da1",
   "metadata": {},
   "source": [
    "#### 1. Run the code block below to generate a list of 10 random usernames."
   ]
  },
  {
   "cell_type": "code",
   "execution_count": null,
   "id": "c4d75cae",
   "metadata": {},
   "outputs": [],
   "source": [
    "import random\n",
    "import string\n",
    "\n",
    "usernames = []\n",
    "\n",
    "for i in range(10):\n",
    "    length = random.randint(5, 10)\n",
    "    username = ''.join(random.choices(string.ascii_lowercase + string.digits, k=length))\n",
    "    usernames.append(username)\n",
    "\n",
    "print(usernames)\n"
   ]
  },
  {
   "cell_type": "markdown",
   "id": "a881f51a",
   "metadata": {},
   "source": [
    "#### 2. Print the type of `usernames`"
   ]
  },
  {
   "cell_type": "code",
   "execution_count": null,
   "id": "b7f8cf28",
   "metadata": {},
   "outputs": [],
   "source": [
    "# TODO - print the type of the variable `usernames`\n"
   ]
  },
  {
   "cell_type": "markdown",
   "id": "8ab1741d",
   "metadata": {},
   "source": [
    "#### 3. Print the length of `usernames`"
   ]
  },
  {
   "cell_type": "code",
   "execution_count": null,
   "id": "89e7e3cc",
   "metadata": {},
   "outputs": [],
   "source": [
    "# TODO - print the length of the variable `usernames`\n"
   ]
  },
  {
   "cell_type": "markdown",
   "id": "cd3d2141",
   "metadata": {},
   "source": [
    "#### 4. Print the type of the first item in `usernames`"
   ]
  },
  {
   "cell_type": "code",
   "execution_count": null,
   "id": "f09f8d31",
   "metadata": {},
   "outputs": [],
   "source": [
    "# TODO - Print the type of the first item in `usernames`\n"
   ]
  },
  {
   "attachments": {},
   "cell_type": "markdown",
   "id": "9d14680c",
   "metadata": {},
   "source": [
    "#### 5. Create a new list called `usernames_2`, consisting of the last 5 elements of `usernames`."
   ]
  },
  {
   "cell_type": "code",
   "execution_count": 61,
   "id": "c2971d97",
   "metadata": {},
   "outputs": [],
   "source": [
    "usernames_2 = usernames[-5:]\n"
   ]
  },
  {
   "attachments": {},
   "cell_type": "markdown",
   "id": "fa16f654",
   "metadata": {},
   "source": [
    "#### 6. Remove the 2nd element of usernames_2 from the list and assign it to a variable called user_example."
   ]
  },
  {
   "cell_type": "code",
   "execution_count": 62,
   "id": "cc13967a",
   "metadata": {},
   "outputs": [],
   "source": [
    "# TODO - Remove the 2nd element of usernames from the list and assign it to a variable called user_example\n"
   ]
  },
  {
   "attachments": {},
   "cell_type": "markdown",
   "id": "fd9a14a2",
   "metadata": {},
   "source": [
    "#### 7. Use the `.sort()` method to sort the elements of `usernames` alphabetically."
   ]
  },
  {
   "cell_type": "code",
   "execution_count": null,
   "id": "1361c70c",
   "metadata": {},
   "outputs": [],
   "source": [
    "# TODO - Use the `.sort()` method to sort the elements of `usernames` alphabetically.\n",
    "# TODO - Print `usernames`\n"
   ]
  },
  {
   "attachments": {},
   "cell_type": "markdown",
   "id": "14c77ef2",
   "metadata": {},
   "source": [
    "#### 8. Using the `index()` method, make the list entry corresponding to `user_example` uppercase."
   ]
  },
  {
   "cell_type": "code",
   "execution_count": null,
   "id": "4c69927b",
   "metadata": {},
   "outputs": [],
   "source": [
    "# TODO - Using the `index()` method, make the list entry corresponding to `user_example` uppercase.\n",
    "          \n"
   ]
  }
 ],
 "metadata": {
  "kernelspec": {
   "display_name": "content-projects_new",
   "language": "python",
   "name": "python3"
  },
  "language_info": {
   "codemirror_mode": {
    "name": "ipython",
    "version": 3
   },
   "file_extension": ".py",
   "mimetype": "text/x-python",
   "name": "python",
   "nbconvert_exporter": "python",
   "pygments_lexer": "ipython3",
   "version": "3.10.8"
  },
  "vscode": {
   "interpreter": {
    "hash": "4b961f8166aad6ccb4cf65d0f9c742ef9c6c23ffe83ad932438cd83ed96aebaf"
   }
  }
 },
 "nbformat": 4,
 "nbformat_minor": 5
}
