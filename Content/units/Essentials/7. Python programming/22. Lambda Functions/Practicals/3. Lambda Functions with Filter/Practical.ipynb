{
 "cells": [
  {
   "cell_type": "markdown",
   "metadata": {},
   "source": [
    "# Lambda Functions with Filter"
   ]
  },
  {
   "cell_type": "markdown",
   "metadata": {},
   "source": [
    "### 1. Create a list named `data` with 10 strings"
   ]
  },
  {
   "cell_type": "code",
   "execution_count": null,
   "metadata": {},
   "outputs": [],
   "source": [
    "# TODO: Create a list named `data` with 10 strings\n"
   ]
  },
  {
   "cell_type": "markdown",
   "metadata": {},
   "source": [
    "### 2. Create a lambda function called `length_check` that takes in a string and returns `True` if the string is longer than 5 characters, and `False` if it is not. Then use `filter` and the lambda function to filter out all strings that are longer than 5 characters"
   ]
  },
  {
   "cell_type": "code",
   "execution_count": null,
   "metadata": {},
   "outputs": [],
   "source": [
    "# TODO: Create a lambda function called `length_check` that takes in a string and returns `True` if the string is longer than 5 characters, and `False` if it is not. Then use `filter` and the lambda function to filter out all strings that are longer than 5 characters\n"
   ]
  },
  {
   "cell_type": "markdown",
   "metadata": {},
   "source": [
    "### 3. Create a lambda function called `length_vowel_check` that takes in a string and returns `True` if the string is longer than 5 characters and starts with a vowel, and `False` if it is not. Then use `filter` and the lambda function to filter out all strings that are longer than 5 characters and start with a vowel"
   ]
  },
  {
   "cell_type": "code",
   "execution_count": null,
   "metadata": {},
   "outputs": [],
   "source": [
    "# TODO: Create a lambda function called `length_vowel_check` that takes in a string and returns `True` if the string is longer than 5 characters and starts with a vowel, and `False` if it is not. Then use `filter` and the lambda function to filter out all strings that are longer than 5 characters and start with a vowel\n"
   ]
  }
 ],
 "metadata": {
  "language_info": {
   "name": "python"
  }
 },
 "nbformat": 4,
 "nbformat_minor": 2
}
