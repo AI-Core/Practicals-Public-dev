{
 "cells": [
  {
   "cell_type": "markdown",
   "metadata": {},
   "source": [
    "# Lambda Functions with Map"
   ]
  },
  {
   "cell_type": "code",
   "execution_count": null,
   "id": "9f2bd178",
   "metadata": {},
   "outputs": [],
   "source": [
    "#@title ### Run the following cell to download the necessary files for this practical { display-mode: \"form\" } \n",
    "#@markdown Don't worry about what's in this collapsed cell\n",
    "\n",
    "print('Downloading the marking system')\n",
    "!wget https://s3-eu-west-1.amazonaws.com/aicore-portal-public-dev-524288083424/practical_files/efdede0a-7c39-4671-b553-f612aa853466/marking_system.py -q -O marking_system.py\n",
    "import marking_system\n",
    "import importlib\n",
    "importlib.reload(marking_system)\n",
    "import sys\n",
    "ipython = get_ipython()\n",
    "def hide_traceback(exc_tuple=None, filename=None, tb_offset=None, exception_only=False, running_compiled_code=False):\n",
    "    etype, value, tb = sys.exc_info()\n",
    "    value.__cause__ = None  # suppress chained exceptions\n",
    "    return ipython._showtraceback(etype, \"❌ \" + f\"\u001b[91m{value}\", ipython.InteractiveTB.get_exception_only(etype, \"❌ \" + f\"\u001b[91m{value}\"))\n",
    "ipython.showtraceback = hide_traceback\n"
   ]
  },
  {
   "cell_type": "markdown",
   "metadata": {},
   "source": [
    "### 1. Create a list of 5 numbers formatted as integers named `numbers`"
   ]
  },
  {
   "cell_type": "code",
   "execution_count": 1,
   "metadata": {},
   "outputs": [],
   "source": [
    "# TODO: Create a list of 5 numbers formatted as integers named `numbers`\n"
   ]
  },
  {
   "cell_type": "code",
   "execution_count": 2,
   "metadata": {},
   "outputs": [
    {
     "name": "stdout",
     "output_type": "stream",
     "text": [
      "\u001b[92m✔ Well done! You initialised the data correctly.\n"
     ]
    }
   ],
   "source": [
    "#@title #### Run this cell to check your solution { display-mode: \"form\", run: \"auto\" }\n",
    "\n",
    "assert \"numbers\" in globals(), \"You need to initialise the list named 'numbers'\"\n",
    "assert len(numbers) == 5, \"The list should contain 5 integers\"\n",
    "assert all(type(num)==int for num in numbers), \"The list should only contain integers\"\n",
    "\n",
    "print(\n",
    "        \"\\033[92m\\N{heavy check mark} Well done! \"\n",
    "        \"You initialised the data correctly.\")\n",
    "\n",
    "old_numbers = numbers.copy()\n"
   ]
  },
  {
   "cell_type": "markdown",
   "metadata": {},
   "source": [
    "### 2. Create a `lambda` function named `square` that squares a number, and use `map` to apply it to the list of numbers"
   ]
  },
  {
   "cell_type": "code",
   "execution_count": 3,
   "metadata": {},
   "outputs": [],
   "source": [
    "# TODO: Create a `lambda` function named \"square\" that squares a number, and use `map` to apply it to the list of numbers\n"
   ]
  },
  {
   "cell_type": "code",
   "execution_count": null,
   "metadata": {},
   "outputs": [],
   "source": [
    "#@title #### Run this cell to check your solution { display-mode: \"form\", run: \"auto\" }\n",
    "\n",
    "assert \"square\" in globals(), \"You haven't defined the function 'square'.\"\n",
    "assert callable(square), \"'square' should be a function. Please, try again.\"\n",
    "assert square.__code__.co_argcount == 1, \"'square' should take 1 parameter. Please, try again.\"\n",
    "\n",
    "marking_system.check_step_1(square, numbers, old_numbers)\n",
    "old_numbers = numbers.copy()\n"
   ]
  },
  {
   "cell_type": "markdown",
   "metadata": {},
   "source": [
    "### 3. Create a `lambda` function named `cube` that cubes a number, and use `map` to apply it to the list of numbers"
   ]
  },
  {
   "cell_type": "code",
   "execution_count": 5,
   "metadata": {},
   "outputs": [],
   "source": [
    "# TODO: Create a `lambda` function named \"cube\" that cubes a number, and use `map` to apply it to the list of numbers\n"
   ]
  },
  {
   "cell_type": "code",
   "execution_count": null,
   "metadata": {},
   "outputs": [],
   "source": [
    "#@title #### Run this cell to check your solution { display-mode: \"form\", run: \"auto\" }\n",
    "\n",
    "print(numbers)\n",
    "print(old_numbers)\n",
    "\n",
    "assert \"cube\" in globals(), \"You haven't defined the function 'cube'.\"\n",
    "assert callable(cube), \"'cube' should be a function. Please, try again.\"\n",
    "assert cube.__code__.co_argcount == 1, \"'cube' should take 1 parameter. Please, try again.\"\n",
    "\n",
    "marking_system.check_step_2(cube, numbers, old_numbers)\n",
    "old_numbers = numbers.copy()\n"
   ]
  },
  {
   "cell_type": "markdown",
   "metadata": {},
   "source": [
    "### 4. Create a `lambda` function named `func` that squares a number if it's even and cubes it if it's odd, and use `map` to apply it to the list of numbers"
   ]
  },
  {
   "cell_type": "code",
   "execution_count": 3,
   "metadata": {},
   "outputs": [],
   "source": [
    "# TODO: Create a `lambda` function named \"func\" that squares a number if it's even and cubes it if it's odd, and use `map` to apply it to the list of numbers\n"
   ]
  },
  {
   "cell_type": "code",
   "execution_count": null,
   "metadata": {},
   "outputs": [],
   "source": [
    "#@title #### Run this cell to check your solution { display-mode: \"form\", run: \"auto\" }\n",
    "\n",
    "assert \"func\" in globals(), \"You haven't defined the function 'func'.\"\n",
    "assert callable(func), \"'func' should be a function. Please, try again.\"\n",
    "assert func.__code__.co_argcount == 1, \"'func' should take 1 parameter. Please, try again.\"\n",
    "\n",
    "marking_system.check_step_3(func, numbers, old_numbers)\n",
    "old_numbers = numbers.copy()\n"
   ]
  }
 ],
 "metadata": {
  "kernelspec": {
   "display_name": "Python 3",
   "language": "python",
   "name": "python3"
  },
  "language_info": {
   "codemirror_mode": {
    "name": "ipython",
    "version": 3
   },
   "file_extension": ".py",
   "mimetype": "text/x-python",
   "name": "python",
   "nbconvert_exporter": "python",
   "pygments_lexer": "ipython3",
   "version": "3.10.6"
  }
 },
 "nbformat": 4,
 "nbformat_minor": 2
}
