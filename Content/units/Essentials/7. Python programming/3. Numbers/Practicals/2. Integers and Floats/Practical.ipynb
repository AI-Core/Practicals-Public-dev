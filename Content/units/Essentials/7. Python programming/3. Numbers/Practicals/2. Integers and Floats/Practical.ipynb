{
 "cells": [
  {
   "attachments": {},
   "cell_type": "markdown",
   "metadata": {},
   "source": [
    "# Integers and Floats"
   ]
  },
  {
   "attachments": {},
   "cell_type": "markdown",
   "metadata": {},
   "source": [
    "### 1. Define two variables, `a` and `b` and assign them the values `5` and `2` respectively."
   ]
  },
  {
   "cell_type": "code",
   "execution_count": null,
   "metadata": {},
   "outputs": [],
   "source": [
    "# TODO: Create a variable called 'a' and assign it the value of 5.\n",
    "# TODO: Create a variable called 'b' and assign it the value of 2.\n"
   ]
  },
  {
   "cell_type": "code",
   "execution_count": null,
   "metadata": {},
   "outputs": [],
   "source": [
    "#@title #### Run this cell to check your solution { display-mode: \"form\", run: \"auto\" }\n",
    "\n",
    "assert \"a\" in globals(), \"You haven't defined the variable 'a'.\"\n",
    "assert \"b\" in globals(), \"You haven't defined the variable 'b'.\"\n",
    "marking_system.check_step_1(a=a, b=b)\n"
   ]
  },
  {
   "attachments": {},
   "cell_type": "markdown",
   "metadata": {},
   "source": [
    "### 2. What is the type of `a` and `b`?"
   ]
  },
  {
   "cell_type": "code",
   "execution_count": null,
   "metadata": {},
   "outputs": [],
   "source": [
    "# TODO: Print the type of 'a'.\n",
    "# TODO: Print the type of 'b'.\n"
   ]
  },
  {
   "cell_type": "code",
   "execution_count": null,
   "metadata": {},
   "outputs": [],
   "source": [
    "#@title #### Enter your solution here { display-mode: \"form\", run: \"auto\" }\n",
    "\n",
    "#@markdown What is the type of 'a'?\n",
    "a_type = \"Select your option\" #@param [\"int\", \"str\", \"float\"] {allow-input: true}\n",
    "#@markdown What is the type of 'b'?\n",
    "b_type = \"Select your option\" #@param [\"int\", \"str\", \"float\"] {allow-input: true}\n",
    "marking_system.check_step_2(a_type=a_type, b_type=b_type)\n"
   ]
  },
  {
   "attachments": {},
   "cell_type": "markdown",
   "metadata": {},
   "source": [
    "### 3. Define a variable called `c` and assign it the value of `a / b`\n"
   ]
  },
  {
   "cell_type": "code",
   "execution_count": null,
   "metadata": {},
   "outputs": [],
   "source": [
    "# TODO: Create a variable called 'c' and assign it the value of 'a' divided by 'b'.\n"
   ]
  },
  {
   "cell_type": "code",
   "execution_count": null,
   "metadata": {},
   "outputs": [],
   "source": [
    "#@title #### Run this cell to check your solution { display-mode: \"form\", run: \"auto\" }\n",
    "\n",
    "assert \"c\" in globals(), \"You haven't defined the variable 'c'.\"\n",
    "marking_system.check_step_3(c=c)\n"
   ]
  },
  {
   "attachments": {},
   "cell_type": "markdown",
   "metadata": {},
   "source": [
    "### 4. What is the type of `c`?"
   ]
  },
  {
   "cell_type": "code",
   "execution_count": null,
   "metadata": {},
   "outputs": [],
   "source": [
    "# TODO: Print the type of 'c'.\n"
   ]
  },
  {
   "cell_type": "code",
   "execution_count": null,
   "metadata": {},
   "outputs": [],
   "source": [
    "#@title #### Enter your solution here { display-mode: \"form\", run: \"auto\" }\n",
    "\n",
    "#@markdown What is the type of the 'c'?\n",
    "c_type = \"Select your option\" #@param [\"int\", \"str\", \"float\"] {allow-input: true}\n",
    "marking_system.check_step_4(c_type=c_type)\n"
   ]
  },
  {
   "attachments": {},
   "cell_type": "markdown",
   "metadata": {},
   "source": [
    "### 5. Define a variable called `d` and assign it the value of `a // b`\n"
   ]
  },
  {
   "cell_type": "code",
   "execution_count": null,
   "metadata": {},
   "outputs": [],
   "source": [
    "# TODO: Create a variable called 'd' and assign it the value of 'a' divided by 'b' using integer division.\n"
   ]
  },
  {
   "cell_type": "code",
   "execution_count": null,
   "metadata": {},
   "outputs": [],
   "source": [
    "#@title #### Run this cell to check your solution { display-mode: \"form\", run: \"auto\" }\n",
    "\n",
    "assert \"d\" in globals(), \"You haven't defined the variable 'd'.\"\n",
    "marking_system.check_step_5(d=d)\n"
   ]
  },
  {
   "attachments": {},
   "cell_type": "markdown",
   "metadata": {},
   "source": [
    "### 6. What is the type of `d`?\n"
   ]
  },
  {
   "cell_type": "code",
   "execution_count": null,
   "metadata": {},
   "outputs": [],
   "source": [
    "# TODO: Print the type of 'd'.\n"
   ]
  },
  {
   "cell_type": "code",
   "execution_count": null,
   "metadata": {},
   "outputs": [],
   "source": [
    "#@title #### Enter your solution here { display-mode: \"form\", run: \"auto\" }\n",
    "\n",
    "#@markdown What is the type of the 'd'?\n",
    "d_type = \"Select your option\" #@param [\"int\", \"str\", \"float\"] {allow-input: true}\n",
    "marking_system.check_step_6(d_type=d_type)\n"
   ]
  }
 ],
 "metadata": {
  "kernelspec": {
   "display_name": "content-projects_new",
   "language": "python",
   "name": "python3"
  },
  "language_info": {
   "codemirror_mode": {
    "name": "ipython",
    "version": 3
   },
   "file_extension": ".py",
   "mimetype": "text/x-python",
   "name": "python",
   "nbconvert_exporter": "python",
   "pygments_lexer": "ipython3",
   "version": "3.10.8"
  },
  "vscode": {
   "interpreter": {
    "hash": "4b961f8166aad6ccb4cf65d0f9c742ef9c6c23ffe83ad932438cd83ed96aebaf"
   }
  }
 },
 "nbformat": 4,
 "nbformat_minor": 2
}
