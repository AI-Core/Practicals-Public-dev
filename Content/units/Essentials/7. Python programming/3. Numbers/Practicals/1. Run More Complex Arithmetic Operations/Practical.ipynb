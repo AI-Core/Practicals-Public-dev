{
 "cells": [
  {
   "attachments": {},
   "cell_type": "markdown",
   "metadata": {},
   "source": [
    "# Run More Complex Arithmetic Operations"
   ]
  },
  {
   "attachments": {},
   "cell_type": "markdown",
   "metadata": {},
   "source": [
    "### 1. Define two variables, `a` and `b` and assign them the value `10` and `7` respectively."
   ]
  },
  {
   "cell_type": "code",
   "execution_count": null,
   "metadata": {},
   "outputs": [],
   "source": [
    "# TODO: Create a variable called a and assign it the value 10\n",
    "# TODO: Create a variable called b and assign it the value 7\n"
   ]
  },
  {
   "cell_type": "code",
   "execution_count": null,
   "metadata": {},
   "outputs": [],
   "source": [
    "#@title #### Run this cell to check your solution { display-mode: \"form\", run: \"auto\" }\n",
    "\n",
    "assert \"a\" in globals(), \"You haven't defined the variable 'a'.\"\n",
    "assert \"b\" in globals(), \"You haven't defined the variable 'b'.\"\n",
    "marking_system.check_step_1(a=a, b=b)\n"
   ]
  },
  {
   "attachments": {},
   "cell_type": "markdown",
   "metadata": {},
   "source": [
    "### 2. What is the modulus of `a` and `b`?\n",
    "\n",
    "Create a new variable called `mod_value` and assign it the value of the modulus of `a` and `b`.\n"
   ]
  },
  {
   "cell_type": "code",
   "execution_count": null,
   "metadata": {},
   "outputs": [],
   "source": [
    "# TODO: Create a variable called mod_value and assign it the value of the modulus (or remainder) of a divided by b\n"
   ]
  },
  {
   "cell_type": "code",
   "execution_count": null,
   "metadata": {},
   "outputs": [],
   "source": [
    "#@title #### Run this cell to check your solution { display-mode: \"form\", run: \"auto\" }\n",
    "\n",
    "assert \"mod_value\" in globals(), \"You haven't defined the variable 'mod_value'.\"\n",
    "marking_system.check_step_2(mod_value=mod_value)\n"
   ]
  },
  {
   "attachments": {},
   "cell_type": "markdown",
   "metadata": {},
   "source": [
    "### 3. What is the floor division of `a` and `b`?\n",
    "\n",
    "Create a new variable called `floor_value` and assign it the value of the floor division of `a` and `b`.\n"
   ]
  },
  {
   "cell_type": "code",
   "execution_count": null,
   "metadata": {},
   "outputs": [],
   "source": [
    "# TODO: Create a variable called floor_division and assign it the value of the floor division of a divided by b\n"
   ]
  },
  {
   "cell_type": "code",
   "execution_count": null,
   "metadata": {},
   "outputs": [],
   "source": [
    "#@title #### Run this cell to check your solution { display-mode: \"form\", run: \"auto\" }\n",
    "\n",
    "assert \"floor_value\" in globals(), \"You haven't defined the variable 'floor_value'.\"\n",
    "marking_system.check_step_3(floor_value=floor_value)\n"
   ]
  },
  {
   "attachments": {},
   "cell_type": "markdown",
   "metadata": {},
   "source": [
    "### 4. What is the exponent of `a` and `b`?\n",
    "\n",
    "Create a new variable called `exp_value` and assign it the value of the exponent of `a` and `b`."
   ]
  },
  {
   "cell_type": "code",
   "execution_count": null,
   "metadata": {},
   "outputs": [],
   "source": [
    "pass # TODO: Create a variable called exp_value and assign it the value of a raised to the power of b\n"
   ]
  },
  {
   "cell_type": "code",
   "execution_count": null,
   "metadata": {},
   "outputs": [],
   "source": [
    "#@title #### Run this cell to check your solution { display-mode: \"form\", run: \"auto\" }\n",
    "\n",
    "assert \"exp_value\" in globals(), \"You haven't defined the variable 'exp_value'.\"\n",
    "marking_system.check_step_4(exp_value=exp_value)\n"
   ]
  }
 ],
 "metadata": {
  "kernelspec": {
   "display_name": "content-projects_new",
   "language": "python",
   "name": "python3"
  },
  "language_info": {
   "codemirror_mode": {
    "name": "ipython",
    "version": 3
   },
   "file_extension": ".py",
   "mimetype": "text/x-python",
   "name": "python",
   "nbconvert_exporter": "python",
   "pygments_lexer": "ipython3",
   "version": "3.10.8"
  },
  "vscode": {
   "interpreter": {
    "hash": "4b961f8166aad6ccb4cf65d0f9c742ef9c6c23ffe83ad932438cd83ed96aebaf"
   }
  }
 },
 "nbformat": 4,
 "nbformat_minor": 2
}
