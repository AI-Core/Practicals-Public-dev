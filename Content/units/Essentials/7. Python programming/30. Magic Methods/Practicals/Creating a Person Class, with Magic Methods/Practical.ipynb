{
 "cells": [
  {
   "cell_type": "markdown",
   "metadata": {},
   "source": [
    "# Create a `Person` Class"
   ]
  },
  {
   "cell_type": "markdown",
   "metadata": {},
   "source": [
    "### 1. Create a class called `Person`, then define it's constructor (the `__init__` method)\n",
    "It must take in the following class attributes:\n",
    "- `name`, a string\n",
    "- `date_of_birth`, in the format YYY-MM-DD\n",
    "- `friends`, a list\n",
    "\n",
    "Be careful, don't use a default value for `friends`! This will cause problems whenever you initialise a new instance of the class. To know more about, take a look at this [link](https://stackoverflow.com/questions/19497879/using-a-empty-list-as-default-parameter-in-init-why-the-list-in-all-instanc)"
   ]
  },
  {
   "cell_type": "code",
   "execution_count": null,
   "metadata": {},
   "outputs": [],
   "source": [
    "\n",
    "# TODO - Create a class called `Person`, then define it's constructor (the `__init__` method)\n"
   ]
  },
  {
   "cell_type": "markdown",
   "metadata": {},
   "source": [
    "### 2. Instantiate your class and test that it works before continuing. Do this for every section going forward."
   ]
  },
  {
   "cell_type": "code",
   "execution_count": null,
   "metadata": {},
   "outputs": [],
   "source": [
    "\n",
    "# TODO - instantiate your class\n"
   ]
  },
  {
   "cell_type": "markdown",
   "metadata": {},
   "source": [
    "### 3. Go back to the block with your class definition, then define the `__str__` magic method. \n",
    "When called, this method should return a string representation of the person, outputting their name, date of birth and number of friends."
   ]
  },
  {
   "cell_type": "markdown",
   "metadata": {},
   "source": [
    "### 4. Now define the `__gt__` magic method \n",
    "This method should determine what happens when you use the greater than sign (>) to compare the age of two people. The output should be a print statement saying which person is older.\n",
    "\n",
    "Hint: you will need to import and use the `datetime` module to compare the dates of birth of the two people."
   ]
  },
  {
   "cell_type": "markdown",
   "metadata": {},
   "source": [
    "### 5. Create a method called `add_friend`\n",
    "This method should take in another instance of the `person` class and add it to this instance's friends attribute. Assume that every relationship goes both ways: this method should append each friend to the other's list, in just one call."
   ]
  }
 ],
 "metadata": {
  "language_info": {
   "name": "python"
  }
 },
 "nbformat": 4,
 "nbformat_minor": 2
}
