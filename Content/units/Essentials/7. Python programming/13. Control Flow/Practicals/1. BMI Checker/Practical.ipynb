{
 "cells": [
  {
   "cell_type": "markdown",
   "id": "48aa68f0",
   "metadata": {},
   "source": [
    "# BMI Checker"
   ]
  },
  {
   "cell_type": "code",
   "execution_count": null,
   "id": "49a7fa92",
   "metadata": {},
   "outputs": [],
   "source": [
    "#@title ### Run the following cell to download the necessary files for this practical { display-mode: \"form\" } \n",
    "#@markdown Don't worry about what's in this collapsed cell\n",
    "\n",
    "print('Downloading the marking system')\n",
    "!wget https://s3-eu-west-1.amazonaws.com/aicore-portal-public-dev-524288083424/practical_files/c6de4fa0-bdf6-417d-844f-8727e1dffd59/marking_system.py -q -O marking_system.py\n",
    "import marking_system\n",
    "import importlib\n",
    "importlib.reload(marking_system)\n",
    "import sys\n",
    "ipython = get_ipython()\n",
    "def hide_traceback(exc_tuple=None, filename=None, tb_offset=None, exception_only=False, running_compiled_code=False):\n",
    "    etype, value, tb = sys.exc_info()\n",
    "    value.__cause__ = None  # suppress chained exceptions\n",
    "    return ipython._showtraceback(etype, \"❌ \" + f\"\u001b[91m{value}\", ipython.InteractiveTB.get_exception_only(etype, \"❌ \" + f\"\u001b[91m{value}\"))\n",
    "ipython.showtraceback = hide_traceback\n"
   ]
  },
  {
   "attachments": {},
   "cell_type": "markdown",
   "id": "c2c38494",
   "metadata": {},
   "source": [
    "Given 2 variables, `height` and `weight`, calculate the BMI (`weight` / `height` ^2).\n",
    "\n",
    "#### 1. Using the parameter BMI, write a series of if statements that print the following outcomes:\n",
    "\n",
    "- Below 18.5 --> \"Your BMI is x. You're in the underweight range.\"\n",
    "- Between 18.5 and 24.9 --> \"Your BMI is x. You're in the healthy weight range.\"\n",
    "- Between 25 and 29.9 --> \"Your BMI is x. You're in the overweight range.\"\n",
    "- Between 30 and 39.9 --> \"Your BMI is x. You're in the obese range.\""
   ]
  },
  {
   "cell_type": "code",
   "execution_count": null,
   "id": "61bad754",
   "metadata": {},
   "outputs": [],
   "source": []
  },
  {
   "attachments": {},
   "cell_type": "markdown",
   "id": "814c7364",
   "metadata": {},
   "source": [
    "#### 2. Test your code with the following cases by substituting them in for weight and height values in your code:\n",
    "\n",
    "- Height: 1.83m, Weight: 85kg\n",
    "- Height: 1.55m, Weight: 61kg\n",
    "- Height: 2.09m, Weight: 135kg"
   ]
  },
  {
   "cell_type": "code",
   "execution_count": null,
   "id": "1e415e40",
   "metadata": {},
   "outputs": [],
   "source": []
  }
 ],
 "metadata": {
  "language_info": {
   "name": "python"
  }
 },
 "nbformat": 4,
 "nbformat_minor": 5
}
