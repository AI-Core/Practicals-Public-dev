{
 "cells": [
  {
   "attachments": {},
   "cell_type": "markdown",
   "id": "f55be7bb",
   "metadata": {},
   "source": [
    "# Boolean Comparisons and Operators\n",
    "\n",
    "We can evaluate mathematical comparisons with Booleans.\n",
    "\n",
    "- Create a variable `int_1` and assign it the value `5`.\n",
    "- Create a variable called `int_2` and assign it the value `10`.\n",
    "- Evaluate `int_2` > `int_1`\n",
    "\n"
   ]
  },
  {
   "cell_type": "code",
   "execution_count": null,
   "id": "e50978f0",
   "metadata": {},
   "outputs": [],
   "source": [
    "# TODO - Create a variable `int_1` and assign it the value `5`.\n",
    "# TODO - Create a variable called `int_2` and assign it the value `10`.\n",
    "# TODO - Evaluate `int_2` > `int_1`\n"
   ]
  },
  {
   "attachments": {},
   "cell_type": "markdown",
   "id": "0a732ea2",
   "metadata": {},
   "source": [
    "We can also cast a mathematical expression to a Boolean, and it will evaluate to `True` unless the value is `0`.\n",
    "- Cast `int_2` - `int_1` - `int_1` as a Boolean.\n",
    "- Cast `int_2` - `int_2` - `int_1` as a Boolean."
   ]
  },
  {
   "cell_type": "code",
   "execution_count": null,
   "id": "2a295b7c",
   "metadata": {},
   "outputs": [],
   "source": [
    "\n",
    "\n",
    "# TODO - Cast `int_2` - `int_1` - `int_1` as a Boolean.\n",
    "# TODO - Cast `int_2` - `int_2` - `int_1` as a Boolean.\n",
    "\n",
    "\n"
   ]
  },
  {
   "attachments": {},
   "cell_type": "markdown",
   "id": "443c667a",
   "metadata": {},
   "source": [
    "Try the same thing, but with strings. \n",
    "\n",
    "- Create two variables `string_1` and `string_2`, and assign them the values \"this is a long string\" and \"short string\" respectively. \n",
    "\n",
    "- Evaluate `string_1` > `string_2`\n",
    "- Evaluate `string_2` > `string_1`"
   ]
  },
  {
   "cell_type": "code",
   "execution_count": null,
   "id": "009401ea",
   "metadata": {},
   "outputs": [],
   "source": [
    "string_1 = \"this is a long string\" \n",
    "string_2 = \"short string\" \n",
    "\n",
    "string_2 > string_1\n"
   ]
  },
  {
   "attachments": {},
   "cell_type": "markdown",
   "id": "4d48e37f",
   "metadata": {},
   "source": [
    "We can make our evaluation statements more complex using Boolean logical operators, like `not`, `and` and `or`.\n",
    "\n",
    "- Create three variables `A`, `B` and `C`. Assign them the values `2`,`5` and `10`.\n",
    "- Write a python statement that `C` is bigger than `B` but not bigger than `A`. It should evaluate to `False`."
   ]
  },
  {
   "cell_type": "code",
   "execution_count": null,
   "id": "d69d39d6",
   "metadata": {},
   "outputs": [],
   "source": [
    "A=2\n",
    "B=5\n",
    "# TODO - Create three variables `A`, `B` and `C`. Assign them the values `2`,`5` and `10`.\n",
    "\n",
    "# TODO - Write a python statement that `C` is bigger than `B` but not bigger than `A`. It should evaluate to `False`.\n"
   ]
  },
  {
   "attachments": {},
   "cell_type": "markdown",
   "id": "3e49f5c8",
   "metadata": {},
   "source": [
    "Make the python statement that `A` is not equal to `B`:"
   ]
  },
  {
   "cell_type": "code",
   "execution_count": 17,
   "id": "a36fd38e",
   "metadata": {},
   "outputs": [
    {
     "data": {
      "text/plain": [
       "False"
      ]
     },
     "execution_count": 17,
     "metadata": {},
     "output_type": "execute_result"
    }
   ],
   "source": [
    "# TODO - Make the python statement that `A` is not equal to `B`\n"
   ]
  },
  {
   "attachments": {},
   "cell_type": "markdown",
   "id": "7481fbb3",
   "metadata": {},
   "source": [
    "Negate the previous statement by adding a `not` operator:"
   ]
  },
  {
   "cell_type": "code",
   "execution_count": null,
   "id": "9612d473",
   "metadata": {},
   "outputs": [],
   "source": [
    "# TODO - Make the python statement that `A` is not equal to `B`\n"
   ]
  }
 ],
 "metadata": {
  "kernelspec": {
   "display_name": "huggingface1",
   "language": "python",
   "name": "python3"
  },
  "language_info": {
   "codemirror_mode": {
    "name": "ipython",
    "version": 3
   },
   "file_extension": ".py",
   "mimetype": "text/x-python",
   "name": "python",
   "nbconvert_exporter": "python",
   "pygments_lexer": "ipython3",
   "version": "3.10.8"
  },
  "vscode": {
   "interpreter": {
    "hash": "e36d4b688d7e3685ae8ad6703c0e99019531dd9f05b6e8f8c82292a1f759bcdc"
   }
  }
 },
 "nbformat": 4,
 "nbformat_minor": 5
}
