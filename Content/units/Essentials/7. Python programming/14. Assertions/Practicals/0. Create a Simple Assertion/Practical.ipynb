{
 "cells": [
  {
   "cell_type": "markdown",
   "id": "d6368a57",
   "metadata": {},
   "source": [
    "# Create a Simple Assertion"
   ]
  },
  {
   "cell_type": "code",
   "execution_count": null,
   "id": "407e5354",
   "metadata": {},
   "outputs": [],
   "source": [
    "#@title ### Run the following cell to download the necessary files for this practical { display-mode: \"form\" } \n",
    "#@markdown Don't worry about what's in this collapsed cell\n",
    "\n",
    "print('Downloading the marking system')\n",
    "!wget https://s3-eu-west-1.amazonaws.com/aicore-portal-public-dev-524288083424/practical_files/f485d466-699c-449a-b954-128c32693a2e/marking_system.py -q -O marking_system.py\n",
    "import marking_system\n",
    "import importlib\n",
    "importlib.reload(marking_system)\n",
    "import sys\n",
    "ipython = get_ipython()\n",
    "def hide_traceback(exc_tuple=None, filename=None, tb_offset=None, exception_only=False, running_compiled_code=False):\n",
    "    etype, value, tb = sys.exc_info()\n",
    "    value.__cause__ = None  # suppress chained exceptions\n",
    "    return ipython._showtraceback(etype, \"❌ \" + f\"\u001b[91m{value}\", ipython.InteractiveTB.get_exception_only(etype, \"❌ \" + f\"\u001b[91m{value}\"))\n",
    "ipython.showtraceback = hide_traceback\n",
    "!pip install -q timeout-decorator\n"
   ]
  },
  {
   "attachments": {},
   "cell_type": "markdown",
   "id": "38cfa4cf",
   "metadata": {},
   "source": [
    "### 1. Create a python file called \"assertions.py\""
   ]
  },
  {
   "cell_type": "code",
   "execution_count": null,
   "id": "d8876a57",
   "metadata": {},
   "outputs": [],
   "source": [
    "# TODO - Create the assertion.py file\n"
   ]
  },
  {
   "attachments": {},
   "cell_type": "markdown",
   "id": "1cca5035",
   "metadata": {},
   "source": [
    "### 2. Ask the user for their name and store it in a variable called `name`"
   ]
  },
  {
   "cell_type": "code",
   "execution_count": null,
   "id": "ab967056",
   "metadata": {},
   "outputs": [],
   "source": [
    "# TODO - Inside the file, ask the user for a name using the input() function and store it in a variable called name\n"
   ]
  },
  {
   "attachments": {},
   "cell_type": "markdown",
   "id": "ecdd8dc7",
   "metadata": {},
   "source": [
    "### 3. Add an assertion that checks if the name is \"John\". \n",
    "\n",
    "If it is, print out the message \"Hello, John\". If it isn't, raise an `AssertionError` with the message \"You are not John\"\n",
    "\n",
    "To raise a particular error, you use the \"raise\" keyword. For example, to raise a ValueError, you would use \"raise ValueError\""
   ]
  },
  {
   "cell_type": "code",
   "execution_count": null,
   "id": "5b91e8e9",
   "metadata": {},
   "outputs": [],
   "source": [
    "# TODO - Inside the file, create an assertion that checks if the name is John. Use the \"assert\" keyword. \n"
   ]
  },
  {
   "cell_type": "code",
   "execution_count": null,
   "id": "65cfe0ac",
   "metadata": {},
   "outputs": [],
   "source": [
    "#@title #### Run this cell to check if your code looks good { display-mode: \"form\"}\n",
    "\n",
    "marking_system.check_step_1()\n"
   ]
  },
  {
   "attachments": {},
   "cell_type": "markdown",
   "id": "4bf0551e",
   "metadata": {},
   "source": [
    "### 4. Test your assertion by running the file\n",
    "\n",
    "Run the file and enter \"John\". Then run it again and enter \"Bob\". What happens?"
   ]
  },
  {
   "cell_type": "code",
   "execution_count": null,
   "id": "ed309805",
   "metadata": {},
   "outputs": [],
   "source": [
    "# TODO - Run the assertion.py file using \"John\", and then run it again using \"Bob\".\n",
    "\n",
    "!python assertion.py\n"
   ]
  }
 ],
 "metadata": {
  "language_info": {
   "name": "python"
  }
 },
 "nbformat": 4,
 "nbformat_minor": 5
}
