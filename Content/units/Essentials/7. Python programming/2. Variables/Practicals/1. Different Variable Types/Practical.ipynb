{
 "cells": [
  {
   "attachments": {},
   "cell_type": "markdown",
   "metadata": {},
   "source": [
    "# Different Variable Types"
   ]
  },
  {
   "attachments": {},
   "cell_type": "markdown",
   "metadata": {},
   "source": [
    "### 1. Define the the following variables:\n",
    "\n",
    "```python\n",
    "num = 23 \n",
    "text_num = “57”\n",
    "decimal_num = 98.3\n",
    "```"
   ]
  },
  {
   "cell_type": "code",
   "execution_count": null,
   "metadata": {},
   "outputs": [],
   "source": [
    "# TODO: Create a variable called 'num' and assign it the value 23\n",
    "# TODO: Create a variable called 'text_num' and assign it the value \"57\"\n",
    "# TODO: Create a variable called 'decimal_num' and assign it the value 98.3\n"
   ]
  },
  {
   "cell_type": "code",
   "execution_count": null,
   "metadata": {},
   "outputs": [],
   "source": [
    "#@title #### Run this cell to check your solution { display-mode: \"form\", run: \"auto\" }\n",
    "\n",
    "assert \"num\" in globals(), \"You haven't defined the variable 'num'.\"\n",
    "assert \"text_num\" in globals(), \"You haven't defined the variable 'text_num'.\"\n",
    "assert \"decimal_num\" in globals(), \"You haven't defined the variable 'decimal_num'.\"\n",
    "\n",
    "marking_system.check_step_1(num, text_num, decimal_num)\n"
   ]
  },
  {
   "attachments": {},
   "cell_type": "markdown",
   "metadata": {},
   "source": [
    "### 2. Print the types of each variable (hint: use the `type()` function)"
   ]
  },
  {
   "cell_type": "code",
   "execution_count": null,
   "metadata": {},
   "outputs": [],
   "source": [
    "# TODO: Print the type of the three variables you created above\n"
   ]
  },
  {
   "cell_type": "code",
   "execution_count": null,
   "metadata": {},
   "outputs": [],
   "source": [
    "#@title #### Enter your solution here { display-mode: \"form\", run: \"auto\" }\n",
    "\n",
    "#@markdown What is the type of the variable 'num'?\n",
    "num_type = \"Select your option\" #@param [\"int\", \"str\", \"float\"] {allow-input: true}\n",
    "#@markdown What is the type of the variable 'text_num'?\n",
    "text_num_type = \"Select your option\" #@param [\"int\", \"str\", \"float\"] {allow-input: true}\n",
    "#@markdown What is the type of the variable 'decimal_num'?\n",
    "decimal_num_type = \"Select your option\" #@param [\"int\", \"str\", \"float\"] {allow-input: true}\n",
    "marking_system.check_step_2(num_type, text_num_type, decimal_num_type)\n"
   ]
  },
  {
   "attachments": {},
   "cell_type": "markdown",
   "metadata": {},
   "source": [
    "### 3. What happens when you add `num` and `decimal_num`? What about `num` and `text_num`?"
   ]
  },
  {
   "cell_type": "code",
   "execution_count": null,
   "metadata": {},
   "outputs": [],
   "source": [
    "# TODO: Add the two variables 'num' and 'decimal_num' together\n",
    "# TODO: Add the two variables 'num' and 'text_num' together\n"
   ]
  },
  {
   "cell_type": "code",
   "execution_count": null,
   "metadata": {},
   "outputs": [],
   "source": [
    "#@title #### Enter your solution here { display-mode: \"form\", run: \"auto\" }\n",
    "\n",
    "#@markdown Could you add \"num\" and \"decimal_num\" together? If not, why not?\n",
    "ans_1 = \"Select your option\" #@param [\"Yes\", \"No, because you can't add variables with different types\", \"No, because you can't add integers and floats\"] {allow-input: true}\n",
    "#@markdown Could you add \"num\" and \"text_num\" together? If not, why not?\n",
    "ans_2 = \"Select your option\" #@param [\"Yes\", \"No, because you can't add variables with different types\", \"No, because you can't add integers and strings\"] {allow-input: true}\n",
    "\n",
    "marking_system.check_step_3(ans_1, ans_2)\n"
   ]
  },
  {
   "attachments": {},
   "cell_type": "markdown",
   "metadata": {},
   "source": [
    "### 4 . You can change the type of the string `text_num` to an integer by using the `int()` function. Try it out!\n",
    "\n",
    "Create a new variable called `new_num` and assign it the value of `text_num` converted to an integer.\n",
    "\n",
    "Then, add `new_num` and `num` together and print the result."
   ]
  },
  {
   "cell_type": "code",
   "execution_count": null,
   "metadata": {},
   "outputs": [],
   "source": [
    "# TODO: Create a new variable called 'new_num' and assign it the value of 'text_num' converted to an integer\n",
    "# TODO: Print the sum of 'new_num' and 'num'\n"
   ]
  },
  {
   "cell_type": "code",
   "execution_count": null,
   "metadata": {},
   "outputs": [],
   "source": [
    "#@title #### Could you add both variables? { display-mode: \"form\", run: \"auto\" }\n",
    "\n",
    "#@markdown Could you add \"num\" and \"new_num\" together? If not, why not?\n",
    "ans_1 = \"Select your option\" #@param [\"Yes\", \"No, because you can't add variables with different types\", \"No, because you can't add integers and strings\"] {allow-input: true}\n",
    "\n",
    "marking_system.check_step_4(ans_1)\n"
   ]
  },
  {
   "attachments": {},
   "cell_type": "markdown",
   "metadata": {},
   "source": []
  }
 ],
 "metadata": {
  "kernelspec": {
   "display_name": "content-projects_new",
   "language": "python",
   "name": "python3"
  },
  "language_info": {
   "name": "python",
   "version": "3.10.8"
  },
  "vscode": {
   "interpreter": {
    "hash": "4b961f8166aad6ccb4cf65d0f9c742ef9c6c23ffe83ad932438cd83ed96aebaf"
   }
  }
 },
 "nbformat": 4,
 "nbformat_minor": 2
}
