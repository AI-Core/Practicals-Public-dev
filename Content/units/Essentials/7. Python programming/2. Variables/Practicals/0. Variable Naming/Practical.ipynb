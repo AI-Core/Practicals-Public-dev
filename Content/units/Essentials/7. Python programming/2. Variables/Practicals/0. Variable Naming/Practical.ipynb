{
 "cells": [
  {
   "attachments": {},
   "cell_type": "markdown",
   "metadata": {},
   "source": [
    "# Variable Naming"
   ]
  },
  {
   "attachments": {},
   "cell_type": "markdown",
   "metadata": {},
   "source": [
    "### 1: Define a variable called `my_variable` and assign it the value 23"
   ]
  },
  {
   "cell_type": "code",
   "execution_count": null,
   "metadata": {},
   "outputs": [],
   "source": [
    "# TODO: Create a variable named my_variable and set it equal to 23\n"
   ]
  },
  {
   "cell_type": "code",
   "execution_count": null,
   "metadata": {},
   "outputs": [],
   "source": [
    "#@title #### Run this cell to check your solution { display-mode: \"form\", run: \"auto\" }\n",
    "\n",
    "assert \"my_variable\" in globals(), \"You haven't defined the variable 'my_variable'.\"\n",
    "\n",
    "marking_system.check_step_1(my_variable)\n"
   ]
  },
  {
   "attachments": {},
   "cell_type": "markdown",
   "metadata": {},
   "source": [
    "### 2. Print the value of `my_variable`"
   ]
  },
  {
   "cell_type": "code",
   "execution_count": null,
   "metadata": {},
   "outputs": [],
   "source": [
    "# TODO: Print the value of my_variable using the print function\n"
   ]
  },
  {
   "cell_type": "code",
   "execution_count": null,
   "metadata": {},
   "outputs": [],
   "source": [
    "#@title #### Copy and paste your line of code in this form to check your solution { display-mode: \"form\", run: \"auto\" }\n",
    "\n",
    "your_code = \"\" #@param {type:\"string\"}\n",
    "marking_system.check_step_2(your_code=your_code)\n"
   ]
  },
  {
   "attachments": {},
   "cell_type": "markdown",
   "metadata": {},
   "source": [
    "### 3. Write a new line of code that reassigns `my_variable` to have the value 98"
   ]
  },
  {
   "cell_type": "code",
   "execution_count": null,
   "metadata": {},
   "outputs": [],
   "source": [
    "# TODO: Create a variable named my_variable and set it equal to 98\n"
   ]
  },
  {
   "cell_type": "code",
   "execution_count": null,
   "metadata": {},
   "outputs": [],
   "source": [
    "#@title #### Run this cell to check your solution { display-mode: \"form\", run: \"auto\" }\n",
    "\n",
    "assert \"my_variable\" in globals(), \"You haven't defined the variable 'my_variable'.\"\n",
    "\n",
    "marking_system.check_step_3(my_variable)\n"
   ]
  },
  {
   "attachments": {},
   "cell_type": "markdown",
   "metadata": {},
   "source": [
    "### 4. Print the value of `my_variable` again \n",
    "\n",
    "_Notice that the value of `my_variable` has changed._"
   ]
  },
  {
   "cell_type": "code",
   "execution_count": null,
   "metadata": {},
   "outputs": [],
   "source": [
    "# TODO: Print the value of my_variable using the print function\n"
   ]
  },
  {
   "cell_type": "code",
   "execution_count": null,
   "metadata": {},
   "outputs": [],
   "source": [
    "#@title Copy and paste your line of code in this form to check your solution { display-mode: \"form\", run: \"auto\" }\n",
    "\n",
    "your_code = \"\" #@param {type:\"string\"}\n",
    "marking_system.check_step_4(your_code=your_code)\n"
   ]
  }
 ],
 "metadata": {
  "kernelspec": {
   "display_name": "content-projects_new",
   "language": "python",
   "name": "python3"
  },
  "language_info": {
   "name": "python",
   "version": "3.10.8"
  },
  "vscode": {
   "interpreter": {
    "hash": "4b961f8166aad6ccb4cf65d0f9c742ef9c6c23ffe83ad932438cd83ed96aebaf"
   }
  }
 },
 "nbformat": 4,
 "nbformat_minor": 2
}
