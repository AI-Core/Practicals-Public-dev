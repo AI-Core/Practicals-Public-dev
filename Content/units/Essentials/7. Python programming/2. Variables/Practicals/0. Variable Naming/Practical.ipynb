{
 "cells": [
  {
   "attachments": {},
   "cell_type": "markdown",
   "metadata": {},
   "source": [
    "# Variable Naming"
   ]
  },
  {
   "cell_type": "code",
   "execution_count": null,
   "id": "396992c3",
   "metadata": {},
   "outputs": [],
   "source": [
    "#@title # Run the following cell to download the necessary files for this practical { display-mode: \"form\" } \n",
    "#@markdown Don't worry about what's in this collapsed cell\n",
    "\n",
    "print('Downloading test_practical.py...')\n",
    "!wget https://s3-eu-west-1.amazonaws.com/aicore-portal-public-dev-524288083424/practical_files/b1b01aef-88ef-4bf8-ab08-d5aa28b9e954/test_practical.py -q\n",
    "import test_practical\n"
   ]
  },
  {
   "attachments": {},
   "cell_type": "markdown",
   "metadata": {},
   "source": [
    "#### 1: Define a variable called `my_variable` and assign it the value 23"
   ]
  },
  {
   "cell_type": "code",
   "execution_count": null,
   "metadata": {},
   "outputs": [],
   "source": [
    "# TODO: Create a variable named my_variable and set it equal to 23\n"
   ]
  },
  {
   "cell_type": "code",
   "execution_count": null,
   "metadata": {},
   "outputs": [],
   "source": [
    "#@title Run this cell to check your solution { display-mode: \"form\", run: \"auto\" }\n",
    "\n",
    "assert \"my_variable\" in globals(), \"You haven't defined the variable 'my_variable'.\"\n",
    "\n",
    "test_practical.check_step_1(my_variable)\n"
   ]
  },
  {
   "attachments": {},
   "cell_type": "markdown",
   "metadata": {},
   "source": [
    "#### 2. Print the value of `my_variable`"
   ]
  },
  {
   "cell_type": "code",
   "execution_count": null,
   "metadata": {},
   "outputs": [],
   "source": [
    "# TODO: Print the value of my_variable using the print function\n"
   ]
  },
  {
   "attachments": {},
   "cell_type": "markdown",
   "metadata": {},
   "source": [
    "#### 3. Write a new line of code that reassigns `my_variable` to have the value 98"
   ]
  },
  {
   "cell_type": "code",
   "execution_count": null,
   "metadata": {},
   "outputs": [],
   "source": [
    "# TODO: Create a variable named my_variable and set it equal to 23\n"
   ]
  },
  {
   "attachments": {},
   "cell_type": "markdown",
   "metadata": {},
   "source": [
    "#### 4. Print the value of `my_variable` again \n",
    "\n",
    "_Notice that the value of `my_variable` has changed._"
   ]
  },
  {
   "cell_type": "code",
   "execution_count": null,
   "metadata": {},
   "outputs": [],
   "source": [
    "# TODO: Print the value of my_variable using the print function\n"
   ]
  }
 ],
 "metadata": {
  "kernelspec": {
   "display_name": "content-projects_new",
   "language": "python",
   "name": "python3"
  },
  "language_info": {
   "name": "python",
   "version": "3.10.8"
  },
  "vscode": {
   "interpreter": {
    "hash": "4b961f8166aad6ccb4cf65d0f9c742ef9c6c23ffe83ad932438cd83ed96aebaf"
   }
  }
 },
 "nbformat": 4,
 "nbformat_minor": 2
}
