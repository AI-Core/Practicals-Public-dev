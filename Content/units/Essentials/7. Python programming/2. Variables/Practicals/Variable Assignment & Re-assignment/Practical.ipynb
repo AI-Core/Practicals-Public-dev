{
 "cells": [
  {
   "attachments": {},
   "cell_type": "markdown",
   "metadata": {},
   "source": [
    "# Variable Assignment & Re-assignment"
   ]
  },
  {
   "attachments": {},
   "cell_type": "markdown",
   "metadata": {},
   "source": [
    "Step 1. Define two variables `num1`, and `num2` with the values 37 and 52 respectively"
   ]
  },
  {
   "cell_type": "code",
   "execution_count": null,
   "metadata": {},
   "outputs": [],
   "source": []
  },
  {
   "attachments": {},
   "cell_type": "markdown",
   "metadata": {},
   "source": [
    "Step 2: What is the sum of num1 and num2? What about the product?"
   ]
  },
  {
   "cell_type": "code",
   "execution_count": null,
   "metadata": {},
   "outputs": [],
   "source": []
  },
  {
   "attachments": {},
   "cell_type": "markdown",
   "metadata": {},
   "source": [
    "description: |+\n",
    "1. Define two variables `num1`, and `num2` with the values 37 and 52 respectively\n",
    "2. What is the sum of num1 and num2? What about the product?\n",
    "3. Now reassign `num1` and `num2` to have the values 8 and 3 respectively\n",
    "4. Reuse the code to determine their sum and product"
   ]
  },
  {
   "cell_type": "code",
   "execution_count": null,
   "metadata": {},
   "outputs": [],
   "source": []
  }
 ],
 "metadata": {
  "kernelspec": {
   "display_name": "content-projects_new",
   "language": "python",
   "name": "python3"
  },
  "language_info": {
   "name": "python",
   "version": "3.10.8 (main, Nov 24 2022, 14:13:03) [GCC 11.2.0]"
  },
  "orig_nbformat": 4,
  "vscode": {
   "interpreter": {
    "hash": "4b961f8166aad6ccb4cf65d0f9c742ef9c6c23ffe83ad932438cd83ed96aebaf"
   }
  }
 },
 "nbformat": 4,
 "nbformat_minor": 2
}
