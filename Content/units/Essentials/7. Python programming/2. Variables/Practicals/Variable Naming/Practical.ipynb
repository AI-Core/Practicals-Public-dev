{
 "cells": [
  {
   "cell_type": "code",
   "execution_count": null,
   "id": "83daba81",
   "metadata": {},
   "outputs": [],
   "source": [
    "!wget https://s3-eu-west-1.amazonaws.com/aicore-portal-public-dev-524288083424/practicals_files/b1b01aef-88ef-4bf8-ab08-d5aa28b9e954/test.py"
   ]
  },
  {
   "cell_type": "code",
   "execution_count": null,
   "metadata": {},
   "outputs": [],
   "source": [
    "#Just a test"
   ]
  }
 ],
 "metadata": {
  "kernelspec": {
   "display_name": "content-projects_new",
   "language": "python",
   "name": "python3"
  },
  "language_info": {
   "name": "python",
   "version": "3.10.8 (main, Nov 24 2022, 14:13:03) [GCC 11.2.0]"
  },
  "vscode": {
   "interpreter": {
    "hash": "4b961f8166aad6ccb4cf65d0f9c742ef9c6c23ffe83ad932438cd83ed96aebaf"
   }
  }
 },
 "nbformat": 4,
 "nbformat_minor": 2
}
