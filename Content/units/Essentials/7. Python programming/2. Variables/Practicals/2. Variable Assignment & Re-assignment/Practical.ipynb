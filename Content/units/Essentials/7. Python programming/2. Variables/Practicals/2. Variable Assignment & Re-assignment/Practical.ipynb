{
 "cells": [
  {
   "attachments": {},
   "cell_type": "markdown",
   "metadata": {},
   "source": [
    "# Variable Assignment & Re-assignment"
   ]
  },
  {
   "attachments": {},
   "cell_type": "markdown",
   "metadata": {},
   "source": [
    "### 1. Define two variables `num_1`, and `num_2` with the values 37 and 52 respectively"
   ]
  },
  {
   "cell_type": "code",
   "execution_count": null,
   "metadata": {},
   "outputs": [],
   "source": [
    "# TODO: Assign the value 37 to the variable 'num_1'\n",
    "# TODO: Assign the value 52 to the variable 'num_2'\n"
   ]
  },
  {
   "cell_type": "code",
   "execution_count": null,
   "metadata": {},
   "outputs": [],
   "source": [
    "#@title #### Run this cell to check your solution { display-mode: \"form\", run: \"auto\" }\n",
    "\n",
    "assert \"num_1\" in globals(), \"You haven't defined the variable 'num_1'.\"\n",
    "assert \"num_2\" in globals(), \"You haven't defined the variable 'num_2'.\"\n",
    "marking_system.check_step_1(num_1=num_1, num_2=num_2)\n"
   ]
  },
  {
   "attachments": {},
   "cell_type": "markdown",
   "metadata": {},
   "source": [
    "### 2. What is the sum of num_1 and num_2? What about the product?\n",
    "\n",
    "Assign the sum to a variable called `sum_value` and the product to a variable called `prod_value`"
   ]
  },
  {
   "cell_type": "code",
   "execution_count": null,
   "metadata": {},
   "outputs": [],
   "source": [
    "# TODO: Add the variables 'num_1' and 'num_2' together and assign the result to the variable 'sum_value'\n",
    "# TODO: Multiply the variables 'num_1' and 'num_2' together and assign the result to the variable 'prod_value'\n"
   ]
  },
  {
   "cell_type": "code",
   "execution_count": null,
   "metadata": {},
   "outputs": [],
   "source": [
    "#@title #### Enter your solution here { display-mode: \"form\", run: \"auto\" }\n",
    "\n",
    "assert \"sum_value\" in globals(), \"You haven't defined the variable 'sum_value'.\"\n",
    "assert \"prod_value\" in globals(), \"You haven't defined the variable 'prod_value'.\"\n",
    "marking_system.check_step_2(sum_value=sum_value, prod_value=prod_value)\n"
   ]
  },
  {
   "attachments": {},
   "cell_type": "markdown",
   "metadata": {},
   "source": [
    "### 3. Now reassign `num1` and `num2` to have the values 8 and 3 respectively"
   ]
  },
  {
   "cell_type": "code",
   "execution_count": null,
   "metadata": {},
   "outputs": [],
   "source": [
    "# TODO: Reassign the value 8 to the variable 'num_1'\n",
    "# TODO: Reassign the value 3 to the variable 'num_2'\n"
   ]
  },
  {
   "cell_type": "code",
   "execution_count": null,
   "metadata": {},
   "outputs": [],
   "source": [
    "#@title #### Run this cell to check your solution { display-mode: \"form\", run: \"auto\" }\n",
    "\n",
    "assert \"num_1\" in globals(), \"You haven't defined the variable 'num_1'.\"\n",
    "assert \"num_2\" in globals(), \"You haven't defined the variable 'num_2'.\"\n",
    "marking_system.check_step_3(num_1=num_1, num_2=num_2)\n"
   ]
  },
  {
   "attachments": {},
   "cell_type": "markdown",
   "metadata": {},
   "source": [
    "### 4. Reuse the code to determine their sum and product.\n",
    "\n",
    "Create two new variables called `new_sum_value` and `new_prod_value` to store the new values"
   ]
  },
  {
   "cell_type": "code",
   "execution_count": null,
   "metadata": {},
   "outputs": [],
   "source": [
    "# TODO: Add the variables 'num_1' and 'num_2' together and assign the result to the variable 'new_sum_value'\n",
    "# TODO: Multiply the variables 'num_1' and 'num_2' together and assign the result to the variable 'new_prod_value'\n"
   ]
  },
  {
   "cell_type": "code",
   "execution_count": null,
   "metadata": {},
   "outputs": [],
   "source": [
    "#@title #### Run this cell to check your solution { display-mode: \"form\", run: \"auto\" }\n",
    "\n",
    "assert \"new_sum_value\" in globals(), \"You haven't defined the variable 'new_sum_value'.\"\n",
    "assert \"new_prod_value\" in globals(), \"You haven't defined the variable 'new_prod_value'.\"\n",
    "marking_system.check_step_4(sum_value=new_sum_value, prod_value=new_prod_value)\n"
   ]
  }
 ],
 "metadata": {
  "kernelspec": {
   "display_name": "content-projects_new",
   "language": "python",
   "name": "python3"
  },
  "language_info": {
   "codemirror_mode": {
    "name": "ipython",
    "version": 3
   },
   "file_extension": ".py",
   "mimetype": "text/x-python",
   "name": "python",
   "nbconvert_exporter": "python",
   "pygments_lexer": "ipython3",
   "version": "3.10.8"
  },
  "vscode": {
   "interpreter": {
    "hash": "4b961f8166aad6ccb4cf65d0f9c742ef9c6c23ffe83ad932438cd83ed96aebaf"
   }
  }
 },
 "nbformat": 4,
 "nbformat_minor": 2
}
