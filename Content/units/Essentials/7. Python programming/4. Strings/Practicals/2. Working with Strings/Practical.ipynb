{
 "cells": [
  {
   "attachments": {},
   "cell_type": "markdown",
   "metadata": {},
   "source": [
    "# Working with Strings"
   ]
  },
  {
   "attachments": {},
   "cell_type": "markdown",
   "metadata": {},
   "source": [
    "## Strings are iterable\n",
    "\n",
    "Strings, like many other `Python` variables, are iterable, which means we can index their individual elements. In the case of strings, the elements are the characters of the string. \n",
    "\n",
    "- In the code block below, create a variable called `test_string` and assign it the value `\"hello\"`.\n",
    "- Now try to select the 2nd character of the string, which should be `e`.\n"
   ]
  },
  {
   "cell_type": "code",
   "execution_count": null,
   "metadata": {},
   "outputs": [],
   "source": [
    "# TODO - Create a variable called `test_string` and assign it the value \"hello\".\n",
    "# TODO - Select the 2nd character of the string\n"
   ]
  },
  {
   "attachments": {},
   "cell_type": "markdown",
   "metadata": {},
   "source": [
    "We can also do this the other way around, using the `.index()` method. The index is the location of an element in a string. As with other variables, the first element has index 0.\n",
    "\n",
    "Find the index of the letter `e` in `test_string`:"
   ]
  },
  {
   "cell_type": "code",
   "execution_count": null,
   "metadata": {},
   "outputs": [],
   "source": [
    "# TODO - Find the index of the letter `e` in `test_string`\n"
   ]
  },
  {
   "attachments": {},
   "cell_type": "markdown",
   "metadata": {},
   "source": [
    "## Replacing elements in strings.\n",
    "\n",
    "Strings are immutable, which means we can't just use indexing to replace an element. You might think that the code below would allow us to replace the `e` in \"hello\" with a `*`. Run the code block below to see if it works.\n"
   ]
  },
  {
   "cell_type": "code",
   "execution_count": null,
   "metadata": {},
   "outputs": [],
   "source": [
    "s =\"hello\"\n",
    "s[1]=\"*\"\n"
   ]
  },
  {
   "attachments": {},
   "cell_type": "markdown",
   "metadata": {},
   "source": [
    "To get around this, we can quickly replace all the elements in a string using the `.replace` method.\n",
    "\n",
    "Replace all the `o` characters with `*` in the following string."
   ]
  },
  {
   "cell_type": "code",
   "execution_count": null,
   "metadata": {},
   "outputs": [],
   "source": [
    "s = \"The quick brown fox jumps over the lazy dog\" # KEEP\n",
    "# TODO: Use the appropriate method to replace all occurrences of \"o\" with \"*\"\n"
   ]
  },
  {
   "attachments": {},
   "cell_type": "markdown",
   "metadata": {},
   "source": [
    "## Finding the length of a string\n",
    "\n",
    "We can find the length of a string using it's `len()` method. \n",
    "\n",
    "- Write a sentence and assign it to the variable `my_sentence`.\n",
    "- Find the length of `my_sentence`."
   ]
  },
  {
   "cell_type": "code",
   "execution_count": null,
   "metadata": {},
   "outputs": [],
   "source": [
    "# TODO: Write a sentence and assign it to the variable `my_sentence`.\n",
    "# TODO: Find the length of `my_sentence`\n"
   ]
  },
  {
   "attachments": {},
   "cell_type": "markdown",
   "metadata": {},
   "source": [
    "## Check Which of Two Strings is the Longer"
   ]
  },
  {
   "attachments": {},
   "cell_type": "markdown",
   "metadata": {},
   "source": [
    "#### 1. Given the following strings:"
   ]
  },
  {
   "cell_type": "code",
   "execution_count": null,
   "metadata": {},
   "outputs": [],
   "source": [
    "string_1 = \"Hello\"\n",
    "string_2 = \"World!\"\n"
   ]
  },
  {
   "attachments": {},
   "cell_type": "markdown",
   "metadata": {},
   "source": [
    "Write code that prints the length of the strings."
   ]
  },
  {
   "cell_type": "code",
   "execution_count": null,
   "metadata": {},
   "outputs": [],
   "source": [
    "# TODO: Print the length of string_1\n",
    "# TODO: Print the length of string_2\n"
   ]
  },
  {
   "cell_type": "markdown",
   "metadata": {},
   "source": [
    "The output should look like:\n",
    "\n",
    "```python\n",
    "The length of string_1 is 5\n",
    "The length of string_2 is 6\n",
    "```"
   ]
  },
  {
   "cell_type": "markdown",
   "metadata": {},
   "source": []
  }
 ],
 "metadata": {
  "kernelspec": {
   "display_name": "huggingface1",
   "language": "python",
   "name": "python3"
  },
  "language_info": {
   "codemirror_mode": {
    "name": "ipython",
    "version": 3
   },
   "file_extension": ".py",
   "mimetype": "text/x-python",
   "name": "python",
   "nbconvert_exporter": "python",
   "pygments_lexer": "ipython3",
   "version": "3.10.8"
  },
  "vscode": {
   "interpreter": {
    "hash": "e36d4b688d7e3685ae8ad6703c0e99019531dd9f05b6e8f8c82292a1f759bcdc"
   }
  }
 },
 "nbformat": 4,
 "nbformat_minor": 2
}
