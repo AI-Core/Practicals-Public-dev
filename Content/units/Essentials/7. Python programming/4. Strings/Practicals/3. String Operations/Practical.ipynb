{
 "cells": [
  {
   "attachments": {},
   "cell_type": "markdown",
   "metadata": {},
   "source": [
    "# String Operations"
   ]
  },
  {
   "attachments": {},
   "cell_type": "markdown",
   "metadata": {},
   "source": [
    "## Adding Strings\n",
    "\n",
    "Strings can be added together using the `+` operator. \n",
    "\n",
    "- Create two strings called `string_1` and `string_2`. Assign the value `\"Hello \"` to `string_1` and the value `\"World!\"` to `string_2`.\n",
    "- Add the two strings together and assign them to a variable called `string_3`.\n",
    "- Print `string_3`."
   ]
  },
  {
   "cell_type": "code",
   "execution_count": 2,
   "metadata": {},
   "outputs": [
    {
     "name": "stdout",
     "output_type": "stream",
     "text": [
      "Hello World!\n"
     ]
    }
   ],
   "source": [
    "# TODO -  Create a variable called `string_1` - assign it a value of \"Hello \"\n",
    "# TODO -  Create a variable called `string_2` - assign it a value of \"World!\"\n",
    "# TODO - Add `string_1` and `string_2`\n",
    "# TODO - Print `string_3`\n"
   ]
  },
  {
   "attachments": {},
   "cell_type": "markdown",
   "metadata": {},
   "source": [
    "### Slicing Strings\n",
    "\n",
    "An extension of the idea of indexing a string is slicing. Slicing allows us to select a range of values from a string, based on their indices:"
   ]
  },
  {
   "cell_type": "code",
   "execution_count": null,
   "metadata": {},
   "outputs": [],
   "source": [
    "my_string = \"one two three\"\n",
    "print('the first three characters of my string are:', '\\n' + my_string[:3]) # KEEP\n",
    "# TODO - print the 4th to 7th characters of the string\n",
    "print('the last two characters are:' '\\n' + my_string[-2:]) # KEEP\n"
   ]
  },
  {
   "attachments": {},
   "cell_type": "markdown",
   "metadata": {},
   "source": [
    "### Updating a string\n",
    "\n",
    "You can change part of the content of a string by adding part of string_1 to a new substring, and assigning the new string to the old variable. For example in the code block below, we replace the word `\"World\"` with `\"Crab\"`. You may remember that strings are `immutable`, so you can't just reassign the letters by indexing them. This is the way around that constraint."
   ]
  },
  {
   "cell_type": "code",
   "execution_count": 6,
   "metadata": {},
   "outputs": [
    {
     "name": "stdout",
     "output_type": "stream",
     "text": [
      "Hello Crab!\n"
     ]
    }
   ],
   "source": [
    "string_1 = \"Hello World!\"\n",
    "string_2 = \"Crab!\"\n",
    "string_1 = string_1[:6] + string_2\n",
    "print(string_1)\n"
   ]
  },
  {
   "attachments": {},
   "cell_type": "markdown",
   "metadata": {},
   "source": [
    "In the code block below, replace the word \"large\" with the word \"small\" in the string, and print the string."
   ]
  },
  {
   "cell_type": "code",
   "execution_count": 8,
   "metadata": {},
   "outputs": [
    {
     "name": "stdout",
     "output_type": "stream",
     "text": [
      "Wow, what a small horse!\n"
     ]
    }
   ],
   "source": [
    "sentence_1 = 'Wow, what a large horse!' # KEEP\n",
    "substring_1 = \"small\" # KEEP\n",
    "# TODO - Replace \"large\" with \"small\" in the sentence\n",
    "print(sentence_1) # KEEP\n"
   ]
  },
  {
   "attachments": {},
   "cell_type": "markdown",
   "metadata": {},
   "source": [
    "## Splitting strings\n",
    "\n",
    "We can split strings on a given character value using the `.split()` method. Try splitting up this filepath into drive, folder and filename.\n",
    " -  Call `my_filepath`'s  `.split` method and assign the output to a variable called `my_file_structure`.\n",
    " -  print `my_file_structure`.\n",
    "\n",
    "The variable created is called a `list`. You will learn a lot more about lists later, but for now, you just need to know that they can be indexed, just like strings.\n",
    "\n",
    "- print just the filename, `cow.jpg`"
   ]
  },
  {
   "cell_type": "code",
   "execution_count": 33,
   "metadata": {},
   "outputs": [
    {
     "name": "stdout",
     "output_type": "stream",
     "text": [
      "['C:', 'Images', 'cow.jpg']\n",
      "cow.jpg\n"
     ]
    }
   ],
   "source": [
    "my_filepath = \"C:/Images/cow.jpg\" # KEEP\n",
    "# TODO  Call `my_filepath`'s  `.split` method and assign the output to a variable called `my_file_structure`.\n",
    "# TODO - print `my_file_structure`\n",
    "# TODO - print just the filename\n",
    "\n"
   ]
  }
 ],
 "metadata": {
  "kernelspec": {
   "display_name": "huggingface1",
   "language": "python",
   "name": "python3"
  },
  "language_info": {
   "codemirror_mode": {
    "name": "ipython",
    "version": 3
   },
   "file_extension": ".py",
   "mimetype": "text/x-python",
   "name": "python",
   "nbconvert_exporter": "python",
   "pygments_lexer": "ipython3",
   "version": "3.10.8"
  },
  "vscode": {
   "interpreter": {
    "hash": "e36d4b688d7e3685ae8ad6703c0e99019531dd9f05b6e8f8c82292a1f759bcdc"
   }
  }
 },
 "nbformat": 4,
 "nbformat_minor": 2
}
