{
 "cells": [
  {
   "attachments": {},
   "cell_type": "markdown",
   "id": "d01eaeda",
   "metadata": {},
   "source": [
    "# Basics of Strings\n",
    "\n",
    "In Python, a string variable type is a sequence of characters enclosed within either single or double quotes. It is a fundamental data type used to represent text data."
   ]
  },
  {
   "attachments": {},
   "cell_type": "markdown",
   "id": "839c0a7d",
   "metadata": {},
   "source": [
    "#### 1. Create a variable called `my_string` and assign it the value `\"Hello World\"`."
   ]
  },
  {
   "cell_type": "code",
   "execution_count": null,
   "id": "28ff9bb1",
   "metadata": {},
   "outputs": [
    {
     "ename": "",
     "evalue": "",
     "output_type": "error",
     "traceback": [
      "\u001b[1;31mRunning cells with 'randomenv' requires the ipykernel package.\n",
      "\u001b[1;31mRun the following command to install 'ipykernel' into the Python environment. \n",
      "\u001b[1;31mCommand: 'conda install -n randomenv ipykernel --update-deps --force-reinstall'"
     ]
    }
   ],
   "source": [
    "# TODO - Create a variable called `my_string` and assign it the value \"Hello World\"\n"
   ]
  },
  {
   "attachments": {},
   "cell_type": "markdown",
   "id": "b4f7ac5b",
   "metadata": {},
   "source": [
    "#### 2. Print the value of `my_string`.\n"
   ]
  },
  {
   "cell_type": "code",
   "execution_count": 9,
   "id": "a5671b88",
   "metadata": {},
   "outputs": [
    {
     "name": "stdout",
     "output_type": "stream",
     "text": [
      "Hello World\n"
     ]
    }
   ],
   "source": [
    "# TODO - Print the value of `my_string`\n"
   ]
  },
  {
   "attachments": {},
   "cell_type": "markdown",
   "id": "4ade9d59",
   "metadata": {},
   "source": [
    "#### 3. Print the type of `my_string`."
   ]
  },
  {
   "cell_type": "code",
   "execution_count": 10,
   "id": "9f12b65d",
   "metadata": {},
   "outputs": [
    {
     "name": "stdout",
     "output_type": "stream",
     "text": [
      "<class 'str'>\n"
     ]
    }
   ],
   "source": [
    "# TODO - Print the type of `my_string`\n"
   ]
  },
  {
   "attachments": {},
   "cell_type": "markdown",
   "id": "ace4d606",
   "metadata": {},
   "source": [
    "## Escaped Characters can perform special functions\n",
    "\n",
    "The escape character(`\\`) is a special character used to indicate that the following character should be treated differently. it is followed by a character or a sequence of characters that have a special meaning in the context of the string.\n",
    "\n",
    "There are two main uses of `\\` :\n",
    "- to denote that the next character should have a special meaning, eg. `\\n` to create a newline.\n",
    "- to prevent a character that usually has a special function from having that function, eg. `\\\"`"
   ]
  },
  {
   "cell_type": "markdown",
   "id": "df24e3df",
   "metadata": {},
   "source": [
    "#### 1. Create a variable called `my_string` and assign it the value `\"Hello \\nWorld\"`"
   ]
  },
  {
   "cell_type": "code",
   "execution_count": 7,
   "id": "f0b4bf94",
   "metadata": {},
   "outputs": [],
   "source": [
    "# TODO - Create a variable called `my_string` and assign it the value \"Hello \\nWorld\".\n"
   ]
  },
  {
   "cell_type": "markdown",
   "id": "4a22f333",
   "metadata": {},
   "source": [
    "#### 2. Print the value of `my_string`\n",
    "\n",
    "The \"\\n\" is a special character that tells Python to start a new line."
   ]
  },
  {
   "cell_type": "code",
   "execution_count": null,
   "id": "5c2a055e",
   "metadata": {},
   "outputs": [],
   "source": [
    "# TODO - Print the value of my_string.\n"
   ]
  },
  {
   "cell_type": "markdown",
   "id": "066bde31",
   "metadata": {},
   "source": [
    "#### 3. Create a variable called `my_string` and assign it the value `\"Hello \\tWorld\"`"
   ]
  },
  {
   "cell_type": "code",
   "execution_count": null,
   "id": "d054e13b",
   "metadata": {},
   "outputs": [],
   "source": [
    "# TODO - Create a variable called `my_string` and assign it the value \"Hello \\tWorld\".\n"
   ]
  },
  {
   "cell_type": "markdown",
   "id": "5f13eae2",
   "metadata": {},
   "source": [
    "#### 4. Print the value of `my_string`\n",
    "\n",
    "The \"\\t\" is a special character that tells Python to start a new tab."
   ]
  },
  {
   "cell_type": "code",
   "execution_count": null,
   "id": "cccaaebf",
   "metadata": {},
   "outputs": [],
   "source": [
    "# TODO - Print the value of my_string.\n"
   ]
  }
 ],
 "metadata": {
  "kernelspec": {
   "display_name": "randomenv",
   "language": "python",
   "name": "python3"
  },
  "language_info": {
   "codemirror_mode": {
    "name": "ipython",
    "version": 3
   },
   "file_extension": ".py",
   "mimetype": "text/x-python",
   "name": "python",
   "nbconvert_exporter": "python",
   "pygments_lexer": "ipython3",
   "version": "3.11.0"
  },
  "vscode": {
   "interpreter": {
    "hash": "07b842504d0fec4ddbf550235dac00ed5c9dce8614f6db267a207fce438f43d1"
   }
  }
 },
 "nbformat": 4,
 "nbformat_minor": 5
}
