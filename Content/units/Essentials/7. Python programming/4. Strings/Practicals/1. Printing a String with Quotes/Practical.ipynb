{
 "cells": [
  {
   "cell_type": "markdown",
   "id": "271152cb",
   "metadata": {},
   "source": [
    "# Printing a String with Quotes"
   ]
  },
  {
   "attachments": {},
   "cell_type": "markdown",
   "id": "9fea4c28",
   "metadata": {},
   "source": [
    "#### 1. Create a variable called `my_string` and assign it the value `\"Hello \"World\"`\n",
    "\n",
    "Did it work? What happened?"
   ]
  },
  {
   "cell_type": "code",
   "execution_count": null,
   "id": "2b7c2489",
   "metadata": {},
   "outputs": [],
   "source": []
  },
  {
   "attachments": {},
   "cell_type": "markdown",
   "id": "a618523a",
   "metadata": {},
   "source": [
    "#### 2. Create a variable called `my_string` and assign it the value `\"Hello 'World'\"`. Then print it.\n",
    "\n",
    "Did it work? In this case, you are using single quotes to enclose the string."
   ]
  },
  {
   "cell_type": "code",
   "execution_count": 2,
   "id": "dbeeece4",
   "metadata": {},
   "outputs": [],
   "source": [
    "# TODO -  Create a variable called `my_string` and assign it the value \"Hello 'World'\".\n",
    "print(my_string)\n"
   ]
  },
  {
   "attachments": {},
   "cell_type": "markdown",
   "id": "35b23a89",
   "metadata": {},
   "source": [
    "#### 3. Create a variable called `my_string` and assign it the value `\"Hello \\\"World\\\"\"`\n",
    "\n",
    "If you want to enclose a string in double quotes, you can use the escape character `\\` to escape the double quotes."
   ]
  },
  {
   "cell_type": "code",
   "execution_count": 3,
   "id": "cee68195",
   "metadata": {},
   "outputs": [],
   "source": [
    "# TODO - Create a variable called `my_string` and assign it the value \"Hello \\\"World\\\"\"\n",
    "print(my_string)\n"
   ]
  }
 ],
 "metadata": {
  "kernelspec": {
   "display_name": "huggingface1",
   "language": "python",
   "name": "python3"
  },
  "language_info": {
   "codemirror_mode": {
    "name": "ipython",
    "version": 3
   },
   "file_extension": ".py",
   "mimetype": "text/x-python",
   "name": "python",
   "nbconvert_exporter": "python",
   "pygments_lexer": "ipython3",
   "version": "3.10.8"
  },
  "vscode": {
   "interpreter": {
    "hash": "e36d4b688d7e3685ae8ad6703c0e99019531dd9f05b6e8f8c82292a1f759bcdc"
   }
  }
 },
 "nbformat": 4,
 "nbformat_minor": 5
}
