{
 "cells": [
  {
   "cell_type": "markdown",
   "metadata": {},
   "source": [
    "# Generator that Cycles Through a List"
   ]
  },
  {
   "cell_type": "markdown",
   "metadata": {},
   "source": [
    "### Create a generator named `cycle` that infinitely cycles through a list of items in order"
   ]
  },
  {
   "cell_type": "code",
   "execution_count": null,
   "metadata": {},
   "outputs": [],
   "source": [
    "# TODO: Create a generator named `cycle` that infinitely cycles through a list of items in order\n",
    "\n",
    "data = [1, 2, 3, 4]\n",
    "generator = cycle(data)\n",
    "\n",
    "while True:\n",
    "    print(next(generator))\n"
   ]
  }
 ],
 "metadata": {
  "language_info": {
   "name": "python"
  }
 },
 "nbformat": 4,
 "nbformat_minor": 2
}
