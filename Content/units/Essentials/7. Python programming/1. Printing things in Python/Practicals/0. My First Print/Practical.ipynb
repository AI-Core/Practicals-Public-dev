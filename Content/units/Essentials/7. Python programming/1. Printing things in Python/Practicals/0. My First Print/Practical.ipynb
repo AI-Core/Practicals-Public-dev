{
 "cells": [
  {
   "attachments": {},
   "cell_type": "markdown",
   "metadata": {},
   "source": [
    "# My First Print"
   ]
  },
  {
   "attachments": {},
   "cell_type": "markdown",
   "metadata": {},
   "source": [
    "### Use the print function to print the following text: \"This print statement was created in Python\"."
   ]
  },
  {
   "cell_type": "code",
   "execution_count": null,
   "metadata": {},
   "outputs": [],
   "source": [
    "# TODO: Use the print function to print \"This print statement was created in Python\". Then run the cell.\n"
   ]
  },
  {
   "cell_type": "code",
   "execution_count": null,
   "metadata": {},
   "outputs": [],
   "source": [
    "#@title #### Copy and paste your line of code in this form to check your solution{ display-mode: \"form\", run: \"auto\" }\n",
    "\n",
    "your_code = \"\" #@param {type:\"string\"}\n",
    "marking_system.check_step_1(your_code)\n"
   ]
  }
 ],
 "metadata": {
  "kernelspec": {
   "display_name": "content-projects_new",
   "language": "python",
   "name": "python3"
  },
  "language_info": {
   "name": "python",
   "version": "3.10.8"
  },
  "vscode": {
   "interpreter": {
    "hash": "4b961f8166aad6ccb4cf65d0f9c742ef9c6c23ffe83ad932438cd83ed96aebaf"
   }
  }
 },
 "nbformat": 4,
 "nbformat_minor": 2
}
