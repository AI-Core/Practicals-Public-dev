{
 "cells": [
  {
   "cell_type": "markdown",
   "id": "41383e32",
   "metadata": {},
   "source": [
    "# Boolean Range Checker"
   ]
  },
  {
   "cell_type": "code",
   "execution_count": null,
   "id": "60aa00cb",
   "metadata": {},
   "outputs": [],
   "source": [
    "#@title ### Run the following cell to download the necessary files for this practical { display-mode: \"form\" } \n",
    "#@markdown Don't worry about what's in this collapsed cell\n",
    "\n",
    "print('Downloading the marking system')\n",
    "!wget https://s3-eu-west-1.amazonaws.com/aicore-portal-public-dev-524288083424/practical_files/7dde34f0-1275-42ff-90e5-0032a42b557d/marking_system.py -q -O marking_system.py\n",
    "import marking_system\n",
    "import importlib\n",
    "importlib.reload(marking_system)\n",
    "import sys\n",
    "ipython = get_ipython()\n",
    "def hide_traceback(exc_tuple=None, filename=None, tb_offset=None, exception_only=False, running_compiled_code=False):\n",
    "    etype, value, tb = sys.exc_info()\n",
    "    value.__cause__ = None  # suppress chained exceptions\n",
    "    return ipython._showtraceback(etype, \"❌ \" + f\"\u001b[91m{value}\", ipython.InteractiveTB.get_exception_only(etype, \"❌ \" + f\"\u001b[91m{value}\"))\n",
    "ipython.showtraceback = hide_traceback\n"
   ]
  },
  {
   "cell_type": "markdown",
   "id": "5fb2c35c",
   "metadata": {},
   "source": [
    "#### 1. Write a function called `in_range` which takes in three arguments: `lower_bound`, `upper_bound`, and `number`"
   ]
  },
  {
   "cell_type": "code",
   "execution_count": null,
   "id": "43d8d5af",
   "metadata": {},
   "outputs": [],
   "source": [
    "# TODO - Define a function called in_range that takes three parameters: lower_bound, upper_bound and value\n",
    "    # TODO - Using if statements, check if the value is between the lower and upper bounds\n",
    "        pass # TODO - If the value is between the lower and upper bounds, return True\n",
    "pass # TODO - If the value is not between the lower and upper bounds, return False\n"
   ]
  },
  {
   "cell_type": "markdown",
   "id": "4165c279",
   "metadata": {},
   "source": [
    "#### 2. If `number` is between `lower_bound` and `upper_bound`, return `True`"
   ]
  },
  {
   "cell_type": "code",
   "execution_count": null,
   "id": "31086d49",
   "metadata": {},
   "outputs": [],
   "source": []
  },
  {
   "cell_type": "markdown",
   "id": "67b2e91a",
   "metadata": {},
   "source": [
    "#### 3. If it isn't, return `False`"
   ]
  },
  {
   "cell_type": "code",
   "execution_count": null,
   "id": "8ec48ad8",
   "metadata": {},
   "outputs": [],
   "source": []
  },
  {
   "attachments": {},
   "cell_type": "markdown",
   "id": "56bba96a",
   "metadata": {},
   "source": [
    "#### 4. Call your function to test it\n",
    "\n",
    "Use the following code to test your function:\n"
   ]
  },
  {
   "cell_type": "code",
   "execution_count": null,
   "id": "9e3ca55b",
   "metadata": {},
   "outputs": [],
   "source": [
    "print(in_range(1, 10, 5)) # Should print True\n",
    "print(in_range(1, 10, 11)) # Should print False\n"
   ]
  }
 ],
 "metadata": {
  "kernelspec": {
   "display_name": "content-projects_new",
   "language": "python",
   "name": "python3"
  },
  "language_info": {
   "codemirror_mode": {
    "name": "ipython",
    "version": 3
   },
   "file_extension": ".py",
   "mimetype": "text/x-python",
   "name": "python",
   "nbconvert_exporter": "python",
   "pygments_lexer": "ipython3",
   "version": "3.10.8"
  },
  "vscode": {
   "interpreter": {
    "hash": "4b961f8166aad6ccb4cf65d0f9c742ef9c6c23ffe83ad932438cd83ed96aebaf"
   }
  }
 },
 "nbformat": 4,
 "nbformat_minor": 5
}
